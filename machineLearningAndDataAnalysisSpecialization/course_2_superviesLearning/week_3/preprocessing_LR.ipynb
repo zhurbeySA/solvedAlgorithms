{
 "cells": [
  {
   "cell_type": "markdown",
   "metadata": {},
   "source": [
    "**Корректность проверена на Python 3.6:**\n",
    "+ pandas 0.23.4\n",
    "+ numpy 1.15.4\n",
    "+ matplotlib 3.0.2\n",
    "+ sklearn 0.20.2"
   ]
  },
  {
   "cell_type": "code",
   "execution_count": 280,
   "metadata": {},
   "outputs": [],
   "source": [
    "import warnings\n",
    "warnings.filterwarnings('ignore')"
   ]
  },
  {
   "cell_type": "markdown",
   "metadata": {},
   "source": [
    "## Предобработка данных и логистическая регрессия для задачи бинарной классификации"
   ]
  },
  {
   "cell_type": "markdown",
   "metadata": {},
   "source": [
    "## Programming assignment"
   ]
  },
  {
   "cell_type": "markdown",
   "metadata": {},
   "source": [
    "В задании вам будет предложено ознакомиться с основными техниками предобработки данных, а так же применить их для обучения модели логистической регрессии. Ответ потребуется загрузить в соответствующую форму в виде 6 текстовых файлов."
   ]
  },
  {
   "cell_type": "code",
   "execution_count": 281,
   "metadata": {},
   "outputs": [],
   "source": [
    "import pandas as pd\n",
    "import numpy as np\n",
    "import matplotlib\n",
    "from matplotlib import pyplot as plt\n",
    "matplotlib.style.use('ggplot')\n",
    "%matplotlib inline\n",
    "\n",
    "import warnings\n",
    "warnings.filterwarnings('ignore')"
   ]
  },
  {
   "cell_type": "markdown",
   "metadata": {},
   "source": [
    "## Описание датасета"
   ]
  },
  {
   "cell_type": "markdown",
   "metadata": {},
   "source": [
    "Задача: по 38 признакам, связанных с заявкой на грант (область исследований учёных, информация по их академическому бэкграунду, размер гранта, область, в которой он выдаётся) предсказать, будет ли заявка принята. Датасет включает в себя информацию по 6000 заявкам на гранты, которые были поданы в университете Мельбурна в период с 2004 по 2008 год.\n",
    "\n",
    "Полную версию данных с большим количеством признаков можно найти на https://www.kaggle.com/c/unimelb."
   ]
  },
  {
   "cell_type": "code",
   "execution_count": 282,
   "metadata": {},
   "outputs": [
    {
     "data": {
      "text/plain": [
       "(6000, 39)"
      ]
     },
     "execution_count": 282,
     "metadata": {},
     "output_type": "execute_result"
    }
   ],
   "source": [
    "data = pd.read_csv('data.csv')\n",
    "data.shape"
   ]
  },
  {
   "cell_type": "markdown",
   "metadata": {},
   "source": [
    "Выделим из датасета целевую переменную Grant.Status и обозначим её за y\n",
    "Теперь X обозначает обучающую выборку, y - ответы на ней"
   ]
  },
  {
   "cell_type": "code",
   "execution_count": 283,
   "metadata": {},
   "outputs": [],
   "source": [
    "X = data.drop('Grant.Status', 1)\n",
    "y = data['Grant.Status']"
   ]
  },
  {
   "cell_type": "markdown",
   "metadata": {},
   "source": [
    "## Теория по логистической регрессии"
   ]
  },
  {
   "cell_type": "markdown",
   "metadata": {},
   "source": [
    "После осознания того, какую именно задачу требуется решить на этих данных, следующим шагом при реальном анализе был бы подбор подходящего метода. В данном задании выбор метода было произведён за вас, это логистическая регрессия. Кратко напомним вам используемую модель.\n",
    "\n",
    "Логистическая регрессия предсказывает вероятности принадлежности объекта к каждому классу. Сумма ответов логистической регрессии на одном объекте для всех классов равна единице.\n",
    "\n",
    "$$ \\sum_{k=1}^K \\pi_{ik} = 1, \\quad \\pi_k \\equiv P\\,(y_i = k \\mid x_i, \\theta), $$\n",
    "\n",
    "где:\n",
    "- $\\pi_{ik}$ - вероятность принадлежности объекта $x_i$ из выборки $X$ к классу $k$\n",
    "- $\\theta$ - внутренние параметры алгоритма, которые настраиваются в процессе обучения, в случае логистической регрессии - $w, b$\n",
    "\n",
    "Из этого свойства модели в случае бинарной классификации требуется вычислить лишь вероятность принадлежности объекта к одному из классов (вторая вычисляется из условия нормировки вероятностей). Эта вероятность вычисляется, используя логистическую функцию:\n",
    "\n",
    "$$ P\\,(y_i = 1 \\mid x_i, \\theta) = \\frac{1}{1 + \\exp(-w^T x_i-b)} $$\n",
    "\n",
    "Параметры $w$ и $b$ находятся, как решения следующей задачи оптимизации (указаны функционалы с L1 и L2 регуляризацией, с которыми вы познакомились в предыдущих заданиях):\n",
    "\n",
    "L2-regularization:\n",
    "\n",
    "$$ Q(X, y, \\theta) = \\frac{1}{2} w^T w + C \\sum_{i=1}^l \\log ( 1 + \\exp(-y_i (w^T x_i + b ) ) ) \\longrightarrow \\min\\limits_{w,b} $$\n",
    "\n",
    "L1-regularization:\n",
    "\n",
    "$$ Q(X, y, \\theta) = \\sum_{d=1}^D |w_d| + C \\sum_{i=1}^l \\log ( 1 + \\exp(-y_i (w^T x_i + b ) ) ) \\longrightarrow \\min\\limits_{w,b} $$\n",
    "\n",
    "$C$ - это стандартный гиперпараметр модели, который регулирует то, насколько сильно мы позволяем модели подстраиваться под данные."
   ]
  },
  {
   "cell_type": "markdown",
   "metadata": {},
   "source": [
    "## Предобработка данных"
   ]
  },
  {
   "cell_type": "markdown",
   "metadata": {},
   "source": [
    "Из свойств данной модели следует, что:\n",
    "- все $X$ должны быть числовыми данными (в случае наличия среди них категорий, их требуется некоторым способом преобразовать в вещественные числа)\n",
    "- среди $X$ не должно быть пропущенных значений (т.е. все пропущенные значения перед применением модели следует каким-то образом заполнить)\n",
    "\n",
    "Поэтому базовым этапом в предобработке любого датасета для логистической регрессии будет кодирование категориальных признаков, а так же удаление или интерпретация пропущенных значений (при наличии того или другого)."
   ]
  },
  {
   "cell_type": "code",
   "execution_count": 284,
   "metadata": {},
   "outputs": [
    {
     "data": {
      "text/html": [
       "<div>\n",
       "<style scoped>\n",
       "    .dataframe tbody tr th:only-of-type {\n",
       "        vertical-align: middle;\n",
       "    }\n",
       "\n",
       "    .dataframe tbody tr th {\n",
       "        vertical-align: top;\n",
       "    }\n",
       "\n",
       "    .dataframe thead th {\n",
       "        text-align: right;\n",
       "    }\n",
       "</style>\n",
       "<table border=\"1\" class=\"dataframe\">\n",
       "  <thead>\n",
       "    <tr style=\"text-align: right;\">\n",
       "      <th></th>\n",
       "      <th>Grant.Status</th>\n",
       "      <th>Sponsor.Code</th>\n",
       "      <th>Grant.Category.Code</th>\n",
       "      <th>Contract.Value.Band...see.note.A</th>\n",
       "      <th>RFCD.Code.1</th>\n",
       "      <th>RFCD.Percentage.1</th>\n",
       "      <th>RFCD.Code.2</th>\n",
       "      <th>RFCD.Percentage.2</th>\n",
       "      <th>RFCD.Code.3</th>\n",
       "      <th>RFCD.Percentage.3</th>\n",
       "      <th>RFCD.Code.4</th>\n",
       "      <th>RFCD.Percentage.4</th>\n",
       "      <th>RFCD.Code.5</th>\n",
       "      <th>RFCD.Percentage.5</th>\n",
       "      <th>SEO.Code.1</th>\n",
       "      <th>...</th>\n",
       "      <th>Person.ID.1</th>\n",
       "      <th>Role.1</th>\n",
       "      <th>Year.of.Birth.1</th>\n",
       "      <th>Country.of.Birth.1</th>\n",
       "      <th>Home.Language.1</th>\n",
       "      <th>Dept.No..1</th>\n",
       "      <th>Faculty.No..1</th>\n",
       "      <th>With.PHD.1</th>\n",
       "      <th>No..of.Years.in.Uni.at.Time.of.Grant.1</th>\n",
       "      <th>Number.of.Successful.Grant.1</th>\n",
       "      <th>Number.of.Unsuccessful.Grant.1</th>\n",
       "      <th>A..1</th>\n",
       "      <th>A.1</th>\n",
       "      <th>B.1</th>\n",
       "      <th>C.1</th>\n",
       "    </tr>\n",
       "  </thead>\n",
       "  <tbody>\n",
       "    <tr>\n",
       "      <th>0</th>\n",
       "      <td>1</td>\n",
       "      <td>21A</td>\n",
       "      <td>50A</td>\n",
       "      <td>A</td>\n",
       "      <td>230202.0</td>\n",
       "      <td>50.0</td>\n",
       "      <td>230203.0</td>\n",
       "      <td>30.0</td>\n",
       "      <td>230204.0</td>\n",
       "      <td>20.0</td>\n",
       "      <td>0.0</td>\n",
       "      <td>0.0</td>\n",
       "      <td>0.0</td>\n",
       "      <td>0.0</td>\n",
       "      <td>780101.0</td>\n",
       "      <td>...</td>\n",
       "      <td>493297.0</td>\n",
       "      <td>CHIEF_INVESTIGATOR</td>\n",
       "      <td>1965.0</td>\n",
       "      <td>Australia</td>\n",
       "      <td>NaN</td>\n",
       "      <td>3098.0</td>\n",
       "      <td>31.0</td>\n",
       "      <td>Yes</td>\n",
       "      <td>&gt;=0 to 5</td>\n",
       "      <td>2.0</td>\n",
       "      <td>0.0</td>\n",
       "      <td>0.0</td>\n",
       "      <td>4.0</td>\n",
       "      <td>2.0</td>\n",
       "      <td>0.0</td>\n",
       "    </tr>\n",
       "    <tr>\n",
       "      <th>1</th>\n",
       "      <td>1</td>\n",
       "      <td>4D</td>\n",
       "      <td>10A</td>\n",
       "      <td>D</td>\n",
       "      <td>320801.0</td>\n",
       "      <td>100.0</td>\n",
       "      <td>0.0</td>\n",
       "      <td>0.0</td>\n",
       "      <td>0.0</td>\n",
       "      <td>0.0</td>\n",
       "      <td>0.0</td>\n",
       "      <td>0.0</td>\n",
       "      <td>0.0</td>\n",
       "      <td>0.0</td>\n",
       "      <td>730112.0</td>\n",
       "      <td>...</td>\n",
       "      <td>330592.0</td>\n",
       "      <td>CHIEF_INVESTIGATOR</td>\n",
       "      <td>1965.0</td>\n",
       "      <td>Australia</td>\n",
       "      <td>NaN</td>\n",
       "      <td>2553.0</td>\n",
       "      <td>25.0</td>\n",
       "      <td>Yes</td>\n",
       "      <td>&gt;=0 to 5</td>\n",
       "      <td>3.0</td>\n",
       "      <td>1.0</td>\n",
       "      <td>0.0</td>\n",
       "      <td>2.0</td>\n",
       "      <td>0.0</td>\n",
       "      <td>0.0</td>\n",
       "    </tr>\n",
       "    <tr>\n",
       "      <th>2</th>\n",
       "      <td>0</td>\n",
       "      <td>NaN</td>\n",
       "      <td>NaN</td>\n",
       "      <td>NaN</td>\n",
       "      <td>320602.0</td>\n",
       "      <td>50.0</td>\n",
       "      <td>321004.0</td>\n",
       "      <td>30.0</td>\n",
       "      <td>321015.0</td>\n",
       "      <td>20.0</td>\n",
       "      <td>0.0</td>\n",
       "      <td>0.0</td>\n",
       "      <td>0.0</td>\n",
       "      <td>0.0</td>\n",
       "      <td>730203.0</td>\n",
       "      <td>...</td>\n",
       "      <td>66887.0</td>\n",
       "      <td>CHIEF_INVESTIGATOR</td>\n",
       "      <td>1955.0</td>\n",
       "      <td>Australia</td>\n",
       "      <td>NaN</td>\n",
       "      <td>2813.0</td>\n",
       "      <td>25.0</td>\n",
       "      <td>NaN</td>\n",
       "      <td>Less than 0</td>\n",
       "      <td>1.0</td>\n",
       "      <td>5.0</td>\n",
       "      <td>0.0</td>\n",
       "      <td>7.0</td>\n",
       "      <td>2.0</td>\n",
       "      <td>0.0</td>\n",
       "    </tr>\n",
       "    <tr>\n",
       "      <th>3</th>\n",
       "      <td>0</td>\n",
       "      <td>51C</td>\n",
       "      <td>20C</td>\n",
       "      <td>A</td>\n",
       "      <td>291503.0</td>\n",
       "      <td>60.0</td>\n",
       "      <td>321402.0</td>\n",
       "      <td>40.0</td>\n",
       "      <td>0.0</td>\n",
       "      <td>0.0</td>\n",
       "      <td>0.0</td>\n",
       "      <td>0.0</td>\n",
       "      <td>0.0</td>\n",
       "      <td>0.0</td>\n",
       "      <td>730114.0</td>\n",
       "      <td>...</td>\n",
       "      <td>63812.0</td>\n",
       "      <td>CHIEF_INVESTIGATOR</td>\n",
       "      <td>1950.0</td>\n",
       "      <td>Great Britain</td>\n",
       "      <td>NaN</td>\n",
       "      <td>2553.0</td>\n",
       "      <td>25.0</td>\n",
       "      <td>NaN</td>\n",
       "      <td>more than 15</td>\n",
       "      <td>2.0</td>\n",
       "      <td>1.0</td>\n",
       "      <td>5.0</td>\n",
       "      <td>6.0</td>\n",
       "      <td>9.0</td>\n",
       "      <td>1.0</td>\n",
       "    </tr>\n",
       "    <tr>\n",
       "      <th>4</th>\n",
       "      <td>0</td>\n",
       "      <td>24D</td>\n",
       "      <td>30B</td>\n",
       "      <td>NaN</td>\n",
       "      <td>380107.0</td>\n",
       "      <td>100.0</td>\n",
       "      <td>0.0</td>\n",
       "      <td>0.0</td>\n",
       "      <td>0.0</td>\n",
       "      <td>0.0</td>\n",
       "      <td>0.0</td>\n",
       "      <td>0.0</td>\n",
       "      <td>0.0</td>\n",
       "      <td>0.0</td>\n",
       "      <td>730108.0</td>\n",
       "      <td>...</td>\n",
       "      <td>13687.0</td>\n",
       "      <td>CHIEF_INVESTIGATOR</td>\n",
       "      <td>1970.0</td>\n",
       "      <td>Australia</td>\n",
       "      <td>NaN</td>\n",
       "      <td>2923.0</td>\n",
       "      <td>25.0</td>\n",
       "      <td>NaN</td>\n",
       "      <td>Less than 0</td>\n",
       "      <td>0.0</td>\n",
       "      <td>2.0</td>\n",
       "      <td>0.0</td>\n",
       "      <td>0.0</td>\n",
       "      <td>0.0</td>\n",
       "      <td>0.0</td>\n",
       "    </tr>\n",
       "  </tbody>\n",
       "</table>\n",
       "<p>5 rows × 39 columns</p>\n",
       "</div>"
      ],
      "text/plain": [
       "   Grant.Status Sponsor.Code Grant.Category.Code  \\\n",
       "0             1          21A                 50A   \n",
       "1             1           4D                 10A   \n",
       "2             0          NaN                 NaN   \n",
       "3             0          51C                 20C   \n",
       "4             0          24D                 30B   \n",
       "\n",
       "  Contract.Value.Band...see.note.A  RFCD.Code.1  RFCD.Percentage.1  \\\n",
       "0                               A      230202.0               50.0   \n",
       "1                               D      320801.0              100.0   \n",
       "2                              NaN     320602.0               50.0   \n",
       "3                               A      291503.0               60.0   \n",
       "4                              NaN     380107.0              100.0   \n",
       "\n",
       "   RFCD.Code.2  RFCD.Percentage.2  RFCD.Code.3  RFCD.Percentage.3  \\\n",
       "0     230203.0               30.0     230204.0               20.0   \n",
       "1          0.0                0.0          0.0                0.0   \n",
       "2     321004.0               30.0     321015.0               20.0   \n",
       "3     321402.0               40.0          0.0                0.0   \n",
       "4          0.0                0.0          0.0                0.0   \n",
       "\n",
       "   RFCD.Code.4  RFCD.Percentage.4  RFCD.Code.5  RFCD.Percentage.5  SEO.Code.1  \\\n",
       "0          0.0                0.0          0.0                0.0    780101.0   \n",
       "1          0.0                0.0          0.0                0.0    730112.0   \n",
       "2          0.0                0.0          0.0                0.0    730203.0   \n",
       "3          0.0                0.0          0.0                0.0    730114.0   \n",
       "4          0.0                0.0          0.0                0.0    730108.0   \n",
       "\n",
       "   ...  Person.ID.1              Role.1  Year.of.Birth.1  Country.of.Birth.1  \\\n",
       "0  ...     493297.0  CHIEF_INVESTIGATOR           1965.0           Australia   \n",
       "1  ...     330592.0  CHIEF_INVESTIGATOR           1965.0           Australia   \n",
       "2  ...      66887.0  CHIEF_INVESTIGATOR           1955.0           Australia   \n",
       "3  ...      63812.0  CHIEF_INVESTIGATOR           1950.0       Great Britain   \n",
       "4  ...      13687.0  CHIEF_INVESTIGATOR           1970.0           Australia   \n",
       "\n",
       "   Home.Language.1  Dept.No..1  Faculty.No..1  With.PHD.1  \\\n",
       "0              NaN      3098.0           31.0        Yes    \n",
       "1              NaN      2553.0           25.0        Yes    \n",
       "2              NaN      2813.0           25.0         NaN   \n",
       "3              NaN      2553.0           25.0         NaN   \n",
       "4              NaN      2923.0           25.0         NaN   \n",
       "\n",
       "   No..of.Years.in.Uni.at.Time.of.Grant.1  Number.of.Successful.Grant.1  \\\n",
       "0                                >=0 to 5                           2.0   \n",
       "1                                >=0 to 5                           3.0   \n",
       "2                             Less than 0                           1.0   \n",
       "3                            more than 15                           2.0   \n",
       "4                             Less than 0                           0.0   \n",
       "\n",
       "  Number.of.Unsuccessful.Grant.1  A..1  A.1  B.1  C.1  \n",
       "0                            0.0   0.0  4.0  2.0  0.0  \n",
       "1                            1.0   0.0  2.0  0.0  0.0  \n",
       "2                            5.0   0.0  7.0  2.0  0.0  \n",
       "3                            1.0   5.0  6.0  9.0  1.0  \n",
       "4                            2.0   0.0  0.0  0.0  0.0  \n",
       "\n",
       "[5 rows x 39 columns]"
      ]
     },
     "execution_count": 284,
     "metadata": {},
     "output_type": "execute_result"
    }
   ],
   "source": [
    "data.head()\n",
    "# data.info()"
   ]
  },
  {
   "cell_type": "code",
   "execution_count": 285,
   "metadata": {},
   "outputs": [
    {
     "name": "stdout",
     "output_type": "stream",
     "text": [
      "(6000, 39)\n"
     ]
    }
   ],
   "source": [
    "print(data.shape)"
   ]
  },
  {
   "cell_type": "markdown",
   "metadata": {},
   "source": [
    "Видно, что в датасете есть как числовые, так и категориальные признаки. Получим списки их названий:"
   ]
  },
  {
   "cell_type": "code",
   "execution_count": 286,
   "metadata": {},
   "outputs": [],
   "source": [
    "numeric_cols = ['RFCD.Percentage.1', 'RFCD.Percentage.2', 'RFCD.Percentage.3', \n",
    "                'RFCD.Percentage.4', 'RFCD.Percentage.5',\n",
    "                'SEO.Percentage.1', 'SEO.Percentage.2', 'SEO.Percentage.3',\n",
    "                'SEO.Percentage.4', 'SEO.Percentage.5',\n",
    "                'Year.of.Birth.1', 'Number.of.Successful.Grant.1', 'Number.of.Unsuccessful.Grant.1']\n",
    "categorical_cols = list(set(X.columns.values.tolist()) - set(numeric_cols))"
   ]
  },
  {
   "cell_type": "markdown",
   "metadata": {},
   "source": [
    "Также в нём присутствуют пропущенные значения. Очевидны решением будет исключение всех данных, у которых пропущено хотя бы одно значение. Сделаем это:"
   ]
  },
  {
   "cell_type": "code",
   "execution_count": 287,
   "metadata": {},
   "outputs": [
    {
     "data": {
      "text/plain": [
       "['With.PHD.1',\n",
       " 'Dept.No..1',\n",
       " 'Home.Language.1',\n",
       " 'SEO.Code.1',\n",
       " 'RFCD.Code.4',\n",
       " 'No..of.Years.in.Uni.at.Time.of.Grant.1',\n",
       " 'SEO.Code.5',\n",
       " 'Sponsor.Code',\n",
       " 'RFCD.Code.1',\n",
       " 'Role.1',\n",
       " 'C.1',\n",
       " 'RFCD.Code.2',\n",
       " 'SEO.Code.2',\n",
       " 'Country.of.Birth.1',\n",
       " 'RFCD.Code.5',\n",
       " 'B.1',\n",
       " 'Grant.Category.Code',\n",
       " 'SEO.Code.4',\n",
       " 'RFCD.Code.3',\n",
       " 'A..1',\n",
       " 'Contract.Value.Band...see.note.A',\n",
       " 'Person.ID.1',\n",
       " 'Faculty.No..1',\n",
       " 'SEO.Code.3',\n",
       " 'A.1']"
      ]
     },
     "execution_count": 287,
     "metadata": {},
     "output_type": "execute_result"
    }
   ],
   "source": [
    "X.dropna().shape\n",
    "categorical_cols"
   ]
  },
  {
   "cell_type": "markdown",
   "metadata": {},
   "source": [
    "Видно, что тогда мы выбросим почти все данные, и такой метод решения в данном случае не сработает.\n",
    "\n",
    "Пропущенные значения можно так же интерпретировать, для этого существует несколько способов, они различаются для категориальных и вещественных признаков.\n",
    "\n",
    "Для вещественных признаков:\n",
    "- заменить на 0 (данный признак давать вклад в предсказание для данного объекта не будет)\n",
    "- заменить на среднее (каждый пропущенный признак будет давать такой же вклад, как и среднее значение признака на датасете)\n",
    "\n",
    "Для категориальных:\n",
    "- интерпретировать пропущенное значение, как ещё одну категорию (данный способ является самым естественным, так как в случае категорий у нас есть уникальная возможность не потерять информацию о наличии пропущенных значений; обратите внимание, что в случае вещественных признаков данная информация неизбежно теряется)"
   ]
  },
  {
   "cell_type": "markdown",
   "metadata": {},
   "source": [
    "##  Задание 0. Обработка пропущенных значений.\n",
    "1. Заполните пропущенные вещественные значения в X нулями и средними по столбцам, назовите полученные датафреймы X_real_zeros и X_real_mean соответственно. Для подсчёта средних используйте описанную ниже функцию calculate_means, которой требуется передать на вход вешественные признаки из исходного датафрейма. **Для подсчета среднего можно использовать функцию pandas.mean()**\n",
    "2. Все категориальные признаки в X преобразуйте в строки, пропущенные значения требуется также преобразовать в какие-либо строки, которые не являются категориями (например, 'NA'), полученный датафрейм назовите X_cat.\n",
    "\n",
    "Для объединения выборок здесь и далее в задании рекомендуется использовать функции\n",
    "\n",
    "    np.hstack(...)\n",
    "    np.vstack(...)"
   ]
  },
  {
   "cell_type": "code",
   "execution_count": 288,
   "metadata": {},
   "outputs": [],
   "source": [
    "def calculate_means(numeric_data):\n",
    "    means = np.zeros(numeric_data.shape[1])\n",
    "    for j in range(numeric_data.shape[1]):\n",
    "        to_sum = numeric_data.iloc[:,j]\n",
    "        indices = np.nonzero(~numeric_data.iloc[:,j].isnull())[0]\n",
    "        correction = np.amax(to_sum[indices])\n",
    "        to_sum /= correction\n",
    "        for i in indices:\n",
    "            means[j] += to_sum[i]\n",
    "        means[j] /= indices.size\n",
    "        means[j] *= correction\n",
    "    return pd.Series(means, numeric_data.columns)"
   ]
  },
  {
   "cell_type": "code",
   "execution_count": 289,
   "metadata": {},
   "outputs": [
    {
     "name": "stdout",
     "output_type": "stream",
     "text": [
      "<class 'pandas.core.frame.DataFrame'>\n",
      "(6000, 25)\n"
     ]
    },
    {
     "data": {
      "text/html": [
       "<div>\n",
       "<style scoped>\n",
       "    .dataframe tbody tr th:only-of-type {\n",
       "        vertical-align: middle;\n",
       "    }\n",
       "\n",
       "    .dataframe tbody tr th {\n",
       "        vertical-align: top;\n",
       "    }\n",
       "\n",
       "    .dataframe thead th {\n",
       "        text-align: right;\n",
       "    }\n",
       "</style>\n",
       "<table border=\"1\" class=\"dataframe\">\n",
       "  <thead>\n",
       "    <tr style=\"text-align: right;\">\n",
       "      <th></th>\n",
       "      <th>With.PHD.1</th>\n",
       "      <th>Dept.No..1</th>\n",
       "      <th>Home.Language.1</th>\n",
       "      <th>SEO.Code.1</th>\n",
       "      <th>RFCD.Code.4</th>\n",
       "      <th>No..of.Years.in.Uni.at.Time.of.Grant.1</th>\n",
       "      <th>SEO.Code.5</th>\n",
       "      <th>Sponsor.Code</th>\n",
       "      <th>RFCD.Code.1</th>\n",
       "      <th>Role.1</th>\n",
       "      <th>C.1</th>\n",
       "      <th>RFCD.Code.2</th>\n",
       "      <th>SEO.Code.2</th>\n",
       "      <th>Country.of.Birth.1</th>\n",
       "      <th>RFCD.Code.5</th>\n",
       "      <th>B.1</th>\n",
       "      <th>Grant.Category.Code</th>\n",
       "      <th>SEO.Code.4</th>\n",
       "      <th>RFCD.Code.3</th>\n",
       "      <th>A..1</th>\n",
       "      <th>Contract.Value.Band...see.note.A</th>\n",
       "      <th>Person.ID.1</th>\n",
       "      <th>Faculty.No..1</th>\n",
       "      <th>SEO.Code.3</th>\n",
       "      <th>A.1</th>\n",
       "    </tr>\n",
       "  </thead>\n",
       "  <tbody>\n",
       "    <tr>\n",
       "      <th>0</th>\n",
       "      <td>Yes</td>\n",
       "      <td>3098.0</td>\n",
       "      <td>NA</td>\n",
       "      <td>780101.0</td>\n",
       "      <td>0.0</td>\n",
       "      <td>&gt;=0 to 5</td>\n",
       "      <td>0.0</td>\n",
       "      <td>21A</td>\n",
       "      <td>230202.0</td>\n",
       "      <td>CHIEF_INVESTIGATOR</td>\n",
       "      <td>0.0</td>\n",
       "      <td>230203.0</td>\n",
       "      <td>0.0</td>\n",
       "      <td>Australia</td>\n",
       "      <td>0.0</td>\n",
       "      <td>2.0</td>\n",
       "      <td>50A</td>\n",
       "      <td>0.0</td>\n",
       "      <td>230204.0</td>\n",
       "      <td>0.0</td>\n",
       "      <td>A</td>\n",
       "      <td>493297.0</td>\n",
       "      <td>31.0</td>\n",
       "      <td>0.0</td>\n",
       "      <td>4.0</td>\n",
       "    </tr>\n",
       "    <tr>\n",
       "      <th>1</th>\n",
       "      <td>Yes</td>\n",
       "      <td>2553.0</td>\n",
       "      <td>NA</td>\n",
       "      <td>730112.0</td>\n",
       "      <td>0.0</td>\n",
       "      <td>&gt;=0 to 5</td>\n",
       "      <td>0.0</td>\n",
       "      <td>4D</td>\n",
       "      <td>320801.0</td>\n",
       "      <td>CHIEF_INVESTIGATOR</td>\n",
       "      <td>0.0</td>\n",
       "      <td>0.0</td>\n",
       "      <td>0.0</td>\n",
       "      <td>Australia</td>\n",
       "      <td>0.0</td>\n",
       "      <td>0.0</td>\n",
       "      <td>10A</td>\n",
       "      <td>0.0</td>\n",
       "      <td>0.0</td>\n",
       "      <td>0.0</td>\n",
       "      <td>D</td>\n",
       "      <td>330592.0</td>\n",
       "      <td>25.0</td>\n",
       "      <td>0.0</td>\n",
       "      <td>2.0</td>\n",
       "    </tr>\n",
       "    <tr>\n",
       "      <th>2</th>\n",
       "      <td>NA</td>\n",
       "      <td>2813.0</td>\n",
       "      <td>NA</td>\n",
       "      <td>730203.0</td>\n",
       "      <td>0.0</td>\n",
       "      <td>Less than 0</td>\n",
       "      <td>0.0</td>\n",
       "      <td>NA</td>\n",
       "      <td>320602.0</td>\n",
       "      <td>CHIEF_INVESTIGATOR</td>\n",
       "      <td>0.0</td>\n",
       "      <td>321004.0</td>\n",
       "      <td>730105.0</td>\n",
       "      <td>Australia</td>\n",
       "      <td>0.0</td>\n",
       "      <td>2.0</td>\n",
       "      <td>NA</td>\n",
       "      <td>0.0</td>\n",
       "      <td>321015.0</td>\n",
       "      <td>0.0</td>\n",
       "      <td>NA</td>\n",
       "      <td>66887.0</td>\n",
       "      <td>25.0</td>\n",
       "      <td>730108.0</td>\n",
       "      <td>7.0</td>\n",
       "    </tr>\n",
       "    <tr>\n",
       "      <th>3</th>\n",
       "      <td>NA</td>\n",
       "      <td>2553.0</td>\n",
       "      <td>NA</td>\n",
       "      <td>730114.0</td>\n",
       "      <td>0.0</td>\n",
       "      <td>more than 15</td>\n",
       "      <td>0.0</td>\n",
       "      <td>51C</td>\n",
       "      <td>291503.0</td>\n",
       "      <td>CHIEF_INVESTIGATOR</td>\n",
       "      <td>1.0</td>\n",
       "      <td>321402.0</td>\n",
       "      <td>671401.0</td>\n",
       "      <td>Great Britain</td>\n",
       "      <td>0.0</td>\n",
       "      <td>9.0</td>\n",
       "      <td>20C</td>\n",
       "      <td>0.0</td>\n",
       "      <td>0.0</td>\n",
       "      <td>5.0</td>\n",
       "      <td>A</td>\n",
       "      <td>63812.0</td>\n",
       "      <td>25.0</td>\n",
       "      <td>0.0</td>\n",
       "      <td>6.0</td>\n",
       "    </tr>\n",
       "    <tr>\n",
       "      <th>4</th>\n",
       "      <td>NA</td>\n",
       "      <td>2923.0</td>\n",
       "      <td>NA</td>\n",
       "      <td>730108.0</td>\n",
       "      <td>0.0</td>\n",
       "      <td>Less than 0</td>\n",
       "      <td>0.0</td>\n",
       "      <td>24D</td>\n",
       "      <td>380107.0</td>\n",
       "      <td>CHIEF_INVESTIGATOR</td>\n",
       "      <td>0.0</td>\n",
       "      <td>0.0</td>\n",
       "      <td>730306.0</td>\n",
       "      <td>Australia</td>\n",
       "      <td>0.0</td>\n",
       "      <td>0.0</td>\n",
       "      <td>30B</td>\n",
       "      <td>0.0</td>\n",
       "      <td>0.0</td>\n",
       "      <td>0.0</td>\n",
       "      <td>NA</td>\n",
       "      <td>13687.0</td>\n",
       "      <td>25.0</td>\n",
       "      <td>0.0</td>\n",
       "      <td>0.0</td>\n",
       "    </tr>\n",
       "    <tr>\n",
       "      <th>...</th>\n",
       "      <td>...</td>\n",
       "      <td>...</td>\n",
       "      <td>...</td>\n",
       "      <td>...</td>\n",
       "      <td>...</td>\n",
       "      <td>...</td>\n",
       "      <td>...</td>\n",
       "      <td>...</td>\n",
       "      <td>...</td>\n",
       "      <td>...</td>\n",
       "      <td>...</td>\n",
       "      <td>...</td>\n",
       "      <td>...</td>\n",
       "      <td>...</td>\n",
       "      <td>...</td>\n",
       "      <td>...</td>\n",
       "      <td>...</td>\n",
       "      <td>...</td>\n",
       "      <td>...</td>\n",
       "      <td>...</td>\n",
       "      <td>...</td>\n",
       "      <td>...</td>\n",
       "      <td>...</td>\n",
       "      <td>...</td>\n",
       "      <td>...</td>\n",
       "    </tr>\n",
       "    <tr>\n",
       "      <th>5995</th>\n",
       "      <td>Yes</td>\n",
       "      <td>653.0</td>\n",
       "      <td>NA</td>\n",
       "      <td>750902.0</td>\n",
       "      <td>0.0</td>\n",
       "      <td>&gt;=0 to 5</td>\n",
       "      <td>0.0</td>\n",
       "      <td>21A</td>\n",
       "      <td>430102.0</td>\n",
       "      <td>CHIEF_INVESTIGATOR</td>\n",
       "      <td>0.0</td>\n",
       "      <td>440207.0</td>\n",
       "      <td>750702.0</td>\n",
       "      <td>Australia</td>\n",
       "      <td>0.0</td>\n",
       "      <td>0.0</td>\n",
       "      <td>50A</td>\n",
       "      <td>0.0</td>\n",
       "      <td>379999.0</td>\n",
       "      <td>1.0</td>\n",
       "      <td>NA</td>\n",
       "      <td>10402.0</td>\n",
       "      <td>7.0</td>\n",
       "      <td>750401.0</td>\n",
       "      <td>1.0</td>\n",
       "    </tr>\n",
       "    <tr>\n",
       "      <th>5996</th>\n",
       "      <td>NA</td>\n",
       "      <td>NA</td>\n",
       "      <td>NA</td>\n",
       "      <td>NA</td>\n",
       "      <td>NA</td>\n",
       "      <td>NA</td>\n",
       "      <td>NA</td>\n",
       "      <td>163C</td>\n",
       "      <td>NA</td>\n",
       "      <td>CHIEF_INVESTIGATOR</td>\n",
       "      <td>0.0</td>\n",
       "      <td>NA</td>\n",
       "      <td>NA</td>\n",
       "      <td>NA</td>\n",
       "      <td>NA</td>\n",
       "      <td>0.0</td>\n",
       "      <td>10A</td>\n",
       "      <td>NA</td>\n",
       "      <td>NA</td>\n",
       "      <td>0.0</td>\n",
       "      <td>NA</td>\n",
       "      <td>102602.0</td>\n",
       "      <td>NA</td>\n",
       "      <td>NA</td>\n",
       "      <td>1.0</td>\n",
       "    </tr>\n",
       "    <tr>\n",
       "      <th>5997</th>\n",
       "      <td>Yes</td>\n",
       "      <td>2523.0</td>\n",
       "      <td>NA</td>\n",
       "      <td>730201.0</td>\n",
       "      <td>0.0</td>\n",
       "      <td>&gt;10 to 15</td>\n",
       "      <td>0.0</td>\n",
       "      <td>112D</td>\n",
       "      <td>321204.0</td>\n",
       "      <td>CHIEF_INVESTIGATOR</td>\n",
       "      <td>5.0</td>\n",
       "      <td>321208.0</td>\n",
       "      <td>730211.0</td>\n",
       "      <td>Australia</td>\n",
       "      <td>0.0</td>\n",
       "      <td>2.0</td>\n",
       "      <td>30C</td>\n",
       "      <td>0.0</td>\n",
       "      <td>321210.0</td>\n",
       "      <td>2.0</td>\n",
       "      <td>A</td>\n",
       "      <td>68587.0</td>\n",
       "      <td>25.0</td>\n",
       "      <td>730204.0</td>\n",
       "      <td>2.0</td>\n",
       "    </tr>\n",
       "    <tr>\n",
       "      <th>5998</th>\n",
       "      <td>NA</td>\n",
       "      <td>1798.0</td>\n",
       "      <td>NA</td>\n",
       "      <td>NA</td>\n",
       "      <td>NA</td>\n",
       "      <td>Less than 0</td>\n",
       "      <td>NA</td>\n",
       "      <td>NA</td>\n",
       "      <td>NA</td>\n",
       "      <td>CHIEF_INVESTIGATOR</td>\n",
       "      <td>2.0</td>\n",
       "      <td>NA</td>\n",
       "      <td>NA</td>\n",
       "      <td>Australia</td>\n",
       "      <td>NA</td>\n",
       "      <td>1.0</td>\n",
       "      <td>NA</td>\n",
       "      <td>NA</td>\n",
       "      <td>NA</td>\n",
       "      <td>0.0</td>\n",
       "      <td>A</td>\n",
       "      <td>16757.0</td>\n",
       "      <td>118.0</td>\n",
       "      <td>NA</td>\n",
       "      <td>0.0</td>\n",
       "    </tr>\n",
       "    <tr>\n",
       "      <th>5999</th>\n",
       "      <td>NA</td>\n",
       "      <td>2778.0</td>\n",
       "      <td>NA</td>\n",
       "      <td>730109.0</td>\n",
       "      <td>0.0</td>\n",
       "      <td>&gt;5 to 10</td>\n",
       "      <td>0.0</td>\n",
       "      <td>4D</td>\n",
       "      <td>321029.0</td>\n",
       "      <td>CHIEF_INVESTIGATOR</td>\n",
       "      <td>1.0</td>\n",
       "      <td>0.0</td>\n",
       "      <td>671402.0</td>\n",
       "      <td>Australia</td>\n",
       "      <td>0.0</td>\n",
       "      <td>2.0</td>\n",
       "      <td>10A</td>\n",
       "      <td>0.0</td>\n",
       "      <td>0.0</td>\n",
       "      <td>0.0</td>\n",
       "      <td>NA</td>\n",
       "      <td>34537.0</td>\n",
       "      <td>25.0</td>\n",
       "      <td>0.0</td>\n",
       "      <td>0.0</td>\n",
       "    </tr>\n",
       "  </tbody>\n",
       "</table>\n",
       "<p>6000 rows × 25 columns</p>\n",
       "</div>"
      ],
      "text/plain": [
       "     With.PHD.1 Dept.No..1 Home.Language.1 SEO.Code.1 RFCD.Code.4  \\\n",
       "0          Yes      3098.0              NA   780101.0         0.0   \n",
       "1          Yes      2553.0              NA   730112.0         0.0   \n",
       "2            NA     2813.0              NA   730203.0         0.0   \n",
       "3            NA     2553.0              NA   730114.0         0.0   \n",
       "4            NA     2923.0              NA   730108.0         0.0   \n",
       "...         ...        ...             ...        ...         ...   \n",
       "5995       Yes       653.0              NA   750902.0         0.0   \n",
       "5996         NA         NA              NA         NA          NA   \n",
       "5997       Yes      2523.0              NA   730201.0         0.0   \n",
       "5998         NA     1798.0              NA         NA          NA   \n",
       "5999         NA     2778.0              NA   730109.0         0.0   \n",
       "\n",
       "     No..of.Years.in.Uni.at.Time.of.Grant.1 SEO.Code.5 Sponsor.Code  \\\n",
       "0                                  >=0 to 5        0.0          21A   \n",
       "1                                  >=0 to 5        0.0           4D   \n",
       "2                               Less than 0        0.0           NA   \n",
       "3                              more than 15        0.0          51C   \n",
       "4                               Less than 0        0.0          24D   \n",
       "...                                     ...        ...          ...   \n",
       "5995                               >=0 to 5        0.0          21A   \n",
       "5996                                     NA         NA         163C   \n",
       "5997                              >10 to 15        0.0         112D   \n",
       "5998                            Less than 0         NA           NA   \n",
       "5999                               >5 to 10        0.0           4D   \n",
       "\n",
       "     RFCD.Code.1              Role.1  C.1 RFCD.Code.2 SEO.Code.2  \\\n",
       "0       230202.0  CHIEF_INVESTIGATOR  0.0    230203.0        0.0   \n",
       "1       320801.0  CHIEF_INVESTIGATOR  0.0         0.0        0.0   \n",
       "2       320602.0  CHIEF_INVESTIGATOR  0.0    321004.0   730105.0   \n",
       "3       291503.0  CHIEF_INVESTIGATOR  1.0    321402.0   671401.0   \n",
       "4       380107.0  CHIEF_INVESTIGATOR  0.0         0.0   730306.0   \n",
       "...          ...                 ...  ...         ...        ...   \n",
       "5995    430102.0  CHIEF_INVESTIGATOR  0.0    440207.0   750702.0   \n",
       "5996          NA  CHIEF_INVESTIGATOR  0.0          NA         NA   \n",
       "5997    321204.0  CHIEF_INVESTIGATOR  5.0    321208.0   730211.0   \n",
       "5998          NA  CHIEF_INVESTIGATOR  2.0          NA         NA   \n",
       "5999    321029.0  CHIEF_INVESTIGATOR  1.0         0.0   671402.0   \n",
       "\n",
       "     Country.of.Birth.1 RFCD.Code.5  B.1 Grant.Category.Code SEO.Code.4  \\\n",
       "0             Australia         0.0  2.0                 50A        0.0   \n",
       "1             Australia         0.0  0.0                 10A        0.0   \n",
       "2             Australia         0.0  2.0                  NA        0.0   \n",
       "3         Great Britain         0.0  9.0                 20C        0.0   \n",
       "4             Australia         0.0  0.0                 30B        0.0   \n",
       "...                 ...         ...  ...                 ...        ...   \n",
       "5995          Australia         0.0  0.0                 50A        0.0   \n",
       "5996                 NA          NA  0.0                 10A         NA   \n",
       "5997          Australia         0.0  2.0                 30C        0.0   \n",
       "5998          Australia          NA  1.0                  NA         NA   \n",
       "5999          Australia         0.0  2.0                 10A        0.0   \n",
       "\n",
       "     RFCD.Code.3 A..1 Contract.Value.Band...see.note.A Person.ID.1  \\\n",
       "0       230204.0  0.0                               A     493297.0   \n",
       "1            0.0  0.0                               D     330592.0   \n",
       "2       321015.0  0.0                               NA     66887.0   \n",
       "3            0.0  5.0                               A      63812.0   \n",
       "4            0.0  0.0                               NA     13687.0   \n",
       "...          ...  ...                              ...         ...   \n",
       "5995    379999.0  1.0                               NA     10402.0   \n",
       "5996          NA  0.0                               NA    102602.0   \n",
       "5997    321210.0  2.0                               A      68587.0   \n",
       "5998          NA  0.0                               A      16757.0   \n",
       "5999         0.0  0.0                               NA     34537.0   \n",
       "\n",
       "     Faculty.No..1 SEO.Code.3  A.1  \n",
       "0             31.0        0.0  4.0  \n",
       "1             25.0        0.0  2.0  \n",
       "2             25.0   730108.0  7.0  \n",
       "3             25.0        0.0  6.0  \n",
       "4             25.0        0.0  0.0  \n",
       "...            ...        ...  ...  \n",
       "5995           7.0   750401.0  1.0  \n",
       "5996            NA         NA  1.0  \n",
       "5997          25.0   730204.0  2.0  \n",
       "5998         118.0         NA  0.0  \n",
       "5999          25.0        0.0  0.0  \n",
       "\n",
       "[6000 rows x 25 columns]"
      ]
     },
     "execution_count": 289,
     "metadata": {},
     "output_type": "execute_result"
    }
   ],
   "source": [
    "X_real_zeros = X[numeric_cols].fillna(value=0)\n",
    "X_real_mean = X[numeric_cols].fillna(X[numeric_cols].mean())\n",
    "print(type(X_real_mean))\n",
    "\n",
    "print(X[categorical_cols].shape)\n",
    "X_cat = X[categorical_cols].fillna('NA')\n",
    "for category in categorical_cols:\n",
    "    X_cat[category] = X_cat[category].apply(str)\n",
    "    \n",
    "X_cat"
   ]
  },
  {
   "cell_type": "markdown",
   "metadata": {},
   "source": [
    "## Преобразование категориальных признаков."
   ]
  },
  {
   "cell_type": "markdown",
   "metadata": {},
   "source": [
    "В предыдущей ячейке мы разделили наш датасет ещё на две части: в одной присутствуют только вещественные признаки, в другой только категориальные. Это понадобится нам для раздельной последующей обработке этих данных, а так же для сравнения качества работы тех или иных методов.\n",
    "\n",
    "Для использования модели регрессии требуется преобразовать категориальные признаки в вещественные. Рассмотрим основной способ преоборазования категориальных признаков в вещественные: one-hot encoding. Его идея заключается в том, что мы преобразуем категориальный признак при помощи бинарного кода: каждой категории ставим в соответствие набор из нулей и единиц.\n",
    "\n",
    "Посмотрим, как данный метод работает на простом наборе данных."
   ]
  },
  {
   "cell_type": "code",
   "execution_count": 290,
   "metadata": {},
   "outputs": [
    {
     "name": "stdout",
     "output_type": "stream",
     "text": [
      "Исходные данные:\n",
      "\n",
      "      sex nationality\n",
      "0    male    American\n",
      "1  female    European\n",
      "2    male       Asian\n",
      "3  female    European\n",
      "\n",
      "Закодированные данные:\n",
      "\n",
      "<class 'numpy.ndarray'>\n"
     ]
    }
   ],
   "source": [
    "from sklearn.linear_model import LogisticRegression as LR\n",
    "from sklearn.feature_extraction import DictVectorizer as DV\n",
    "\n",
    "categorial_data = pd.DataFrame({'sex': ['male', 'female', 'male', 'female'], \n",
    "                                'nationality': ['American', 'European', 'Asian', 'European']})\n",
    "print('Исходные данные:\\n')\n",
    "print(categorial_data)\n",
    "encoder = DV(sparse = False)\n",
    "encoded_data = encoder.fit_transform(categorial_data.T.to_dict().values())\n",
    "print('\\nЗакодированные данные:\\n')\n",
    "print(type(encoded_data))\n",
    "# print(encoder.transform(categorial_data.T.to_dict().values()))"
   ]
  },
  {
   "cell_type": "markdown",
   "metadata": {},
   "source": [
    "Как видно, в первые три колонки оказалась закодированна информация о стране, а во вторые две - о поле. При этом для совпадающих элементов выборки строки будут полностью совпадать. Также из примера видно, что кодирование признаков сильно увеличивает их количество, но полностью сохраняет информацию, в том числе о наличии пропущенных значений (их наличие просто становится одним из бинарных признаков в преобразованных данных).\n",
    "\n",
    "Теперь применим one-hot encoding к категориальным признакам из исходного датасета. Обратите внимание на общий для всех методов преобработки данных интерфейс. Функция\n",
    "\n",
    "    encoder.fit_transform(X)\n",
    "    \n",
    "позволяет вычислить необходимые параметры преобразования, впоследствии к новым данным можно уже применять функцию\n",
    "\n",
    "    encoder.transform(X)\n",
    "    \n",
    "Очень важно применять одинаковое преобразование как к обучающим, так и тестовым данным, потому что в противном случае вы получите непредсказуемые, и, скорее всего, плохие результаты. В частности, если вы отдельно закодируете обучающую и тестовую выборку, то получите вообще говоря разные коды для одних и тех же признаков, и ваше решение работать не будет.\n",
    "\n",
    "Также параметры многих преобразований (например, рассмотренное ниже масштабирование) нельзя вычислять одновременно на данных из обучения и теста, потому что иначе подсчитанные на тесте метрики качества будут давать смещённые оценки на качество работы алгоритма. Кодирование категориальных признаков не считает на обучающей выборке никаких параметров, поэтому его можно применять сразу к всему датасету."
   ]
  },
  {
   "cell_type": "code",
   "execution_count": 291,
   "metadata": {},
   "outputs": [],
   "source": [
    "encoder = DV(sparse = False)\n",
    "\n",
    "X_cat_oh = encoder.fit_transform(X_cat.T.to_dict().values())"
   ]
  },
  {
   "cell_type": "markdown",
   "metadata": {},
   "source": [
    "Для построения метрики качества по результату обучения требуется разделить исходный датасет на обучающую и тестовую выборки.\n",
    "\n",
    "Обращаем внимание на заданный параметр для генератора случайных чисел: random_state. Так как результаты на обучении и тесте будут зависеть от того, как именно вы разделите объекты, то предлагается использовать заранее определённое значение для получение результатов, согласованных с ответами в системе проверки заданий."
   ]
  },
  {
   "cell_type": "code",
   "execution_count": 292,
   "metadata": {},
   "outputs": [],
   "source": [
    "from sklearn.model_selection import train_test_split\n",
    "\n",
    "(X_train_real_zeros, \n",
    " X_test_real_zeros, \n",
    " y_train, y_test) = train_test_split(X_real_zeros, y.values.reshape(6000, 1), \n",
    "                                     test_size=0.3, \n",
    "                                     random_state=0)\n",
    "(X_train_real_mean, \n",
    " X_test_real_mean) = train_test_split(X_real_mean, \n",
    "                                      test_size=0.3, \n",
    "                                      random_state=0)\n",
    "(X_train_cat_oh,\n",
    " X_test_cat_oh) = train_test_split(X_cat_oh, \n",
    "                                   test_size=0.3,\n",
    "                                   random_state=0)"
   ]
  },
  {
   "cell_type": "markdown",
   "metadata": {},
   "source": [
    "## Описание классов"
   ]
  },
  {
   "cell_type": "markdown",
   "metadata": {},
   "source": [
    "Итак, мы получили первые наборы данных, для которых выполнены оба ограничения логистической регрессии на входные данные. Обучим на них регрессию, используя имеющийся в библиотеке sklearn функционал по подбору гиперпараметров модели\n",
    "    \n",
    "    optimizer = GridSearchCV(estimator, param_grid)\n",
    "\n",
    "где:\n",
    "- estimator - обучающий алгоритм, для которого будет производиться подбор параметров\n",
    "- param_grid - словарь параметров, ключами которого являются строки-названия, которые передаются алгоритму estimator, а значения - набор параметров для перебора\n",
    "\n",
    "Данный класс выполняет кросс-валидацию обучающей выборки для каждого набора параметров и находит те, на которых алгоритм работает лучше всего. Этот метод позволяет настраивать гиперпараметры по обучающей выборке, избегая переобучения. Некоторые опциональные параметры вызова данного класса, которые нам понадобятся:\n",
    "- scoring - функционал качества, максимум которого ищется кросс валидацией, по умолчанию используется функция score() класса esimator\n",
    "- n_jobs - позволяет ускорить кросс-валидацию, выполняя её параллельно, число определяет количество одновременно запущенных задач\n",
    "- cv - количество фолдов, на которые разбивается выборка при кросс-валидации\n",
    "\n",
    "После инициализации класса GridSearchCV, процесс подбора параметров запускается следующим методом:\n",
    "\n",
    "    optimizer.fit(X, y)\n",
    "    \n",
    "На выходе для получения предсказаний можно пользоваться функцией\n",
    "\n",
    "    optimizer.predict(X)\n",
    "    \n",
    "для меток или\n",
    "\n",
    "    optimizer.predict_proba(X)\n",
    "    \n",
    "для вероятностей (в случае использования логистической регрессии).\n",
    "    \n",
    "Также можно напрямую получить оптимальный класс estimator и оптимальные параметры, так как они является атрибутами класса GridSearchCV:\n",
    "- best\\_estimator\\_ - лучший алгоритм\n",
    "- best\\_params\\_ - лучший набор параметров\n",
    "\n",
    "Класс логистической регрессии выглядит следующим образом:\n",
    "\n",
    "    estimator = LogisticRegression(penalty)\n",
    "   \n",
    "где penalty принимает либо значение 'l2', либо 'l1'. По умолчанию устанавливается значение 'l2', и везде в задании, если об этом не оговорено особо, предполагается использование логистической регрессии с L2-регуляризацией."
   ]
  },
  {
   "cell_type": "markdown",
   "metadata": {},
   "source": [
    "## Задание 1. Сравнение способов заполнения вещественных пропущенных значений.\n",
    "1. Составьте две обучающие выборки из вещественных и категориальных признаков: в одной вещественные признаки, где пропущенные значения заполнены нулями, в другой - средними. Рекомендуется записывать в выборки сначала вещественные, а потом категориальные признаки.\n",
    "2. Обучите на них логистическую регрессию, подбирая параметры из заданной сетки param_grid по методу кросс-валидации с числом фолдов cv=3. В качестве оптимизируемой функции используйте заданную по умолчанию.\n",
    "3. Постройте два графика оценок точности +- их стандратного отклонения в зависимости от гиперпараметра и убедитесь, что вы действительно нашли её максимум. Также обратите внимание на большую дисперсию получаемых оценок (уменьшить её можно увеличением числа фолдов cv).\n",
    "4. Получите две метрики качества AUC ROC на тестовой выборке и сравните их между собой. Какой способ заполнения пропущенных вещественных значений работает лучше? В дальнейшем для выполнения задания в качестве вещественных признаков используйте ту выборку, которая даёт лучшее качество на тесте.\n",
    "5. Передайте два значения AUC ROC (сначала для выборки, заполненной средними, потом для выборки, заполненной нулями) в функцию write_answer_1 и запустите её. Полученный файл является ответом на 1 задание.\n",
    "\n",
    "Информация для интересующихся: вообще говоря, не вполне логично оптимизировать на кросс-валидации заданный по умолчанию в классе логистической регрессии функционал accuracy, а измерять на тесте AUC ROC, но это, как и ограничение размера выборки, сделано для ускорения работы процесса кросс-валидации."
   ]
  },
  {
   "cell_type": "code",
   "execution_count": 293,
   "metadata": {
    "scrolled": true
   },
   "outputs": [
    {
     "name": "stdout",
     "output_type": "stream",
     "text": [
      "<class 'pandas.core.frame.DataFrame'>\n",
      "(4200, 5606) (4200, 5606)\n",
      "(1800, 13) (1800, 13) (1800, 5593)\n",
      "--------------------------------\n",
      "--------------------------------\n"
     ]
    },
    {
     "data": {
      "image/png": "[encoded data removed]",
      "text/plain": [
       "<Figure size 432x288 with 1 Axes>"
      ]
     },
     "metadata": {
      "needs_background": "light"
     },
     "output_type": "display_data"
    },
    {
     "data": {
      "image/png": "[encoded data removed]",
      "text/plain": [
       "<Figure size 432x288 with 1 Axes>"
      ]
     },
     "metadata": {
      "needs_background": "light"
     },
     "output_type": "display_data"
    },
    {
     "name": "stdout",
     "output_type": "stream",
     "text": [
      "zeros: 0.886526775317979, means: 0.8874473953506214\n",
      "0.8083333333333333\n",
      "0.8066666666666666\n"
     ]
    }
   ],
   "source": [
    "from sklearn.linear_model import LogisticRegression\n",
    "from sklearn.model_selection import GridSearchCV\n",
    "from sklearn.metrics import roc_auc_score\n",
    "from sklearn import metrics\n",
    "\n",
    "def plot_scores(optimizer):\n",
    "    scores=[]\n",
    "    for i in range(len(optimizer.cv_results_['params'])):\n",
    "        scores.append([optimizer.cv_results_['params'][i]['C'], \n",
    "                optimizer.cv_results_['mean_test_score'][i],\n",
    "                optimizer.cv_results_['std_test_score'][i]])\n",
    "    scores = np.array(scores)\n",
    "    plt.semilogx(scores[:,0], scores[:,1])\n",
    "    plt.fill_between(scores[:,0], scores[:,1]-scores[:,2], \n",
    "                                 scores[:,1]+scores[:,2], alpha=0.3)\n",
    "    plt.show()\n",
    "    \n",
    "def write_answer_1(auc_1, auc_2):\n",
    "    auc = (auc_1 + auc_2)/2\n",
    "    with open(\"preprocessing_lr_answer1.txt\", \"w\") as fout:\n",
    "        fout.write(str(auc))\n",
    "    \n",
    "param_grid = {'C': [0.01, 0.05, 0.1, 0.5, 1, 5, 10]}\n",
    "cv = 3\n",
    "\n",
    "###### First part\n",
    "print(type(X_train_real_zeros))\n",
    "zeroes_train_data = np.hstack((X_train_real_zeros, X_train_cat_oh))\n",
    "means_train_data = np.hstack((X_train_real_mean, X_train_cat_oh))\n",
    "\n",
    "zeroes_test_data = np.hstack((X_test_real_zeros, X_test_cat_oh))\n",
    "means_test_data = np.hstack((X_test_real_mean, X_test_cat_oh))\n",
    "\n",
    "print(zeroes_train_data.shape, means_train_data.shape)\n",
    "print(X_test_real_zeros.shape, X_test_real_mean.shape, X_test_cat_oh.shape)\n",
    "# print(y_train.shape, y_test.shape)\n",
    "print('--------------------------------')\n",
    "\n",
    "###### Second part\n",
    "estimator1 = LogisticRegression()\n",
    "optimizer_zeros = GridSearchCV(estimator1, param_grid=param_grid, cv=3)\n",
    "optimizer_zeros.fit(zeroes_train_data, y_train)\n",
    "# print(optimizer_zeros.cv_results_['mean_test_score'])\n",
    "\n",
    "\n",
    "print('--------------------------------')\n",
    "estimator2 = LogisticRegression()\n",
    "optimizer_means = GridSearchCV(estimator2, param_grid=param_grid, cv=3)\n",
    "optimizer_means.fit(means_train_data, y_train)\n",
    "# print(optimizer_means.cv_results_['mean_test_score'])\n",
    "\n",
    "###### Third part\n",
    "plot_scores(optimizer_zeros)\n",
    "plot_scores(optimizer_means)\n",
    "\n",
    "###### Fourth part\n",
    "test_rock_zeros = roc_auc_score(y_test, optimizer_zeros.predict_proba(zeroes_test_data)[:, 1])\n",
    "test_rock_means = roc_auc_score(y_test, optimizer_means.predict_proba(means_test_data)[:, 1])\n",
    "print('zeros: {}, means: {}'.format(test_rock_zeros, test_rock_means))\n",
    "\n",
    "###### Fifrth part\n",
    "write_answer_1(test_rock_means, test_rock_zeros)\n",
    "\n",
    "\n",
    "print(metrics.accuracy_score(y_test, optimizer_zeros.predict(zeroes_test_data)))\n",
    "print(metrics.accuracy_score(y_test, optimizer_means.predict(means_test_data)))"
   ]
  },
  {
   "cell_type": "markdown",
   "metadata": {},
   "source": [
    "## Масштабирование вещественных признаков."
   ]
  },
  {
   "cell_type": "markdown",
   "metadata": {},
   "source": [
    "Попробуем как-то улучшить качество классификации. Для этого посмотрим на сами данные:"
   ]
  },
  {
   "cell_type": "code",
   "execution_count": 294,
   "metadata": {},
   "outputs": [
    {
     "data": {
      "image/png": "[encoded data removed]",
      "text/plain": [
       "<Figure size 720x720 with 9 Axes>"
      ]
     },
     "metadata": {
      "needs_background": "light"
     },
     "output_type": "display_data"
    },
    {
     "data": {
      "text/plain": [
       "<seaborn.axisgrid.PairGrid at 0x1a29911b50>"
      ]
     },
     "execution_count": 294,
     "metadata": {},
     "output_type": "execute_result"
    },
    {
     "data": {
      "image/png": "[encoded data removed]",
      "text/plain": [
       "<Figure size 540x540 with 12 Axes>"
      ]
     },
     "metadata": {
      "needs_background": "light"
     },
     "output_type": "display_data"
    }
   ],
   "source": [
    "from pandas.plotting import scatter_matrix\n",
    "import seaborn as sns\n",
    "\n",
    "data_numeric = pd.DataFrame(X_train_real_zeros, columns=numeric_cols)\n",
    "list_cols = ['Number.of.Successful.Grant.1', 'SEO.Percentage.2', 'Year.of.Birth.1']\n",
    "scatter_matrix(data_numeric[list_cols], alpha=0.5, figsize=(10, 10))\n",
    "plt.show()\n",
    "sns.pairplot(data_numeric[list_cols])"
   ]
  },
  {
   "cell_type": "markdown",
   "metadata": {},
   "source": [
    "Как видно из графиков, разные признаки очень сильно отличаются друг от друга по модулю значений (обратите внимание на диапазоны значений осей x и y). В случае обычной регрессии это никак не влияет на качество обучаемой модели, т.к. у меньших по модулю признаков будут большие веса, но при использовании регуляризации, которая штрафует модель за большие веса, регрессия, как правило, начинает работать хуже.\n",
    "\n",
    "В таких случаях всегда рекомендуется делать стандартизацию (масштабирование) признаков, для того чтобы они меньше отличались друг друга по модулю, но при этом не нарушались никакие другие свойства признакового пространства. При этом даже если итоговое качество модели на тесте уменьшается, это повышает её интерпретабельность, потому что новые веса имеют смысл \"значимости\" данного признака для итоговой классификации.\n",
    "\n",
    "Стандартизация осуществляется посредством вычета из каждого признака среднего значения и нормировки на выборочное стандартное отклонение:\n",
    "\n",
    "$$ x^{scaled}_{id} = \\dfrac{x_{id} - \\mu_d}{\\sigma_d}, \\quad \\mu_d = \\frac{1}{N} \\sum_{i=1}^l x_{id}, \\quad \\sigma_d = \\sqrt{\\frac{1}{N-1} \\sum_{i=1}^l (x_{id} - \\mu_d)^2} $$"
   ]
  },
  {
   "cell_type": "markdown",
   "metadata": {},
   "source": [
    "## Задание 1.5. Масштабирование вещественных признаков.\n",
    "\n",
    "1. По аналогии с вызовом one-hot encoder примените масштабирование вещественных признаков для обучающих и тестовых выборок X_train_real_zeros и X_test_real_zeros, используя класс \n",
    "\n",
    "        StandardScaler\n",
    "   \n",
    "   и методы \n",
    "\n",
    "        StandardScaler.fit_transform(...)\n",
    "        StandardScaler.transform(...)\n",
    "2. Сохраните ответ в переменные X_train_real_scaled и X_test_real_scaled соответственно"
   ]
  },
  {
   "cell_type": "code",
   "execution_count": 295,
   "metadata": {},
   "outputs": [],
   "source": [
    "from sklearn.preprocessing import StandardScaler\n",
    "\n",
    "# use data filled with mean numbers in empty cells\n",
    "scaler = StandardScaler()\n",
    "scaler.fit(X_train_real_zeros, y_train)\n",
    "X_train_real_scaled = scaler.transform(X_train_real_zeros)\n",
    "X_test_real_scaled = scaler.transform(X_test_real_zeros)"
   ]
  },
  {
   "cell_type": "markdown",
   "metadata": {},
   "source": [
    "## Сравнение признаковых пространств."
   ]
  },
  {
   "cell_type": "markdown",
   "metadata": {},
   "source": [
    "Построим такие же графики для преобразованных данных:"
   ]
  },
  {
   "cell_type": "code",
   "execution_count": 296,
   "metadata": {},
   "outputs": [
    {
     "data": {
      "image/png": "[encoded data removed]",
      "text/plain": [
       "<Figure size 720x720 with 9 Axes>"
      ]
     },
     "metadata": {
      "needs_background": "light"
     },
     "output_type": "display_data"
    }
   ],
   "source": [
    "data_numeric_scaled = pd.DataFrame(X_train_real_scaled, columns=numeric_cols)\n",
    "list_cols = ['Number.of.Successful.Grant.1', 'SEO.Percentage.2', 'Year.of.Birth.1']\n",
    "scatter_matrix(data_numeric_scaled[list_cols], alpha=0.5, figsize=(10, 10))\n",
    "plt.show()"
   ]
  },
  {
   "cell_type": "markdown",
   "metadata": {},
   "source": [
    "Как видно из графиков, мы не поменяли свойства признакового пространства: гистограммы распределений значений признаков, как и их scatter-plots, выглядят так же, как и до нормировки, но при этом все значения теперь находятся примерно в одном диапазоне, тем самым повышая интерпретабельность результатов, а также лучше сочетаясь с идеологией регуляризации."
   ]
  },
  {
   "cell_type": "markdown",
   "metadata": {},
   "source": [
    "## Задание 2. Сравнение качества классификации до и после масштабирования вещественных признаков.\n",
    "1. Обучите ещё раз регрессию и гиперпараметры на новых признаках, объединив их с закодированными категориальными.\n",
    "2. Проверьте, был ли найден оптимум accuracy по гиперпараметрам во время кроссвалидации.\n",
    "3. Получите значение ROC AUC на тестовой выборке, сравните с лучшим результатом, полученными ранее.\n",
    "4. Запишите полученный ответ в файл при помощи функции write_answer_2."
   ]
  },
  {
   "cell_type": "code",
   "execution_count": 297,
   "metadata": {},
   "outputs": [
    {
     "name": "stdout",
     "output_type": "stream",
     "text": [
      "0.795\n",
      "0.885044379082622\n"
     ]
    },
    {
     "data": {
      "image/png": "[encoded data removed]",
      "text/plain": [
       "<Figure size 432x288 with 1 Axes>"
      ]
     },
     "metadata": {
      "needs_background": "light"
     },
     "output_type": "display_data"
    },
    {
     "name": "stdout",
     "output_type": "stream",
     "text": [
      "CPU times: user 15.6 s, sys: 1.77 s, total: 17.4 s\n",
      "Wall time: 2.69 s\n"
     ]
    }
   ],
   "source": [
    "%%time\n",
    "def write_answer_2(auc):\n",
    "    with open(\"preprocessing_lr_answer2.txt\", \"w\") as fout:\n",
    "        fout.write(str(auc))\n",
    "\n",
    "\n",
    "X_train_real_scaled = np.hstack((X_train_real_scaled, X_train_cat_oh))\n",
    "X_test_real_scaled = np.hstack((X_test_real_scaled, X_test_cat_oh))\n",
    "\n",
    "estimator_scaled = LogisticRegression()\n",
    "optimizer_scaled = GridSearchCV(estimator_scaled, param_grid=param_grid, cv=3)\n",
    "optimizer_scaled.fit(X_train_real_scaled, y_train)\n",
    "\n",
    "print(optimizer_scaled.best_score_)\n",
    "\n",
    "test_rock_scaled = roc_auc_score(y_test, optimizer_scaled.predict_proba(X_test_real_scaled)[:, 1])\n",
    "print(test_rock_scaled)\n",
    "\n",
    "plot_scores(optimizer_scaled)\n",
    "write_answer_2(test_rock_scaled)"
   ]
  },
  {
   "cell_type": "markdown",
   "metadata": {},
   "source": [
    "## Балансировка классов."
   ]
  },
  {
   "cell_type": "markdown",
   "metadata": {},
   "source": [
    "Алгоритмы классификации могут быть очень чувствительны к несбалансированным классам. Рассмотрим пример с выборками, сэмплированными из двух гауссиан. Их мат. ожидания и матрицы ковариации заданы так, что истинная разделяющая поверхность должна проходить параллельно оси x. Поместим в обучающую выборку 20 объектов, сэмплированных из 1-й гауссианы, и 10 объектов из 2-й. После этого обучим на них линейную регрессию, и построим на графиках объекты и области классификации."
   ]
  },
  {
   "cell_type": "code",
   "execution_count": 298,
   "metadata": {},
   "outputs": [
    {
     "name": "stdout",
     "output_type": "stream",
     "text": [
      "(300, 300)\n",
      "(300, 300)\n",
      "(90000, 2)\n"
     ]
    },
    {
     "data": {
      "image/png": "[encoded data removed]",
      "text/plain": [
       "<Figure size 432x288 with 1 Axes>"
      ]
     },
     "metadata": {
      "needs_background": "light"
     },
     "output_type": "display_data"
    },
    {
     "name": "stdout",
     "output_type": "stream",
     "text": [
      "AUC: 0.906667\n"
     ]
    },
    {
     "data": {
      "image/png": "[encoded data removed]",
      "text/plain": [
       "<Figure size 432x288 with 1 Axes>"
      ]
     },
     "metadata": {
      "needs_background": "light"
     },
     "output_type": "display_data"
    },
    {
     "name": "stdout",
     "output_type": "stream",
     "text": [
      "AUC: 0.895000\n"
     ]
    }
   ],
   "source": [
    "np.random.seed(0)\n",
    "\"\"\"Сэмплируем данные из первой гауссианы\"\"\"\n",
    "data_0 = np.random.multivariate_normal([0,0], [[0.5,0],[0,0.5]], size=40)\n",
    "\"\"\"И из второй\"\"\"\n",
    "data_1 = np.random.multivariate_normal([0,1], [[0.5,0],[0,0.5]], size=40)\n",
    "\"\"\"На обучение берём 20 объектов из первого класса и 10 из второго\"\"\"\n",
    "example_data_train = np.vstack([data_0[:20,:], data_1[:10,:]])\n",
    "example_labels_train = np.concatenate([np.zeros((20)), np.ones((10))])\n",
    "\"\"\"На тест - 20 из первого и 30 из второго\"\"\"\n",
    "example_data_test = np.vstack([data_0[20:,:], data_1[10:,:]])\n",
    "example_labels_test = np.concatenate([np.zeros((20)), np.ones((30))])\n",
    "\"\"\"Задаём координатную сетку, на которой будем вычислять область классификации\"\"\"\n",
    "xx, yy = np.meshgrid(np.arange(-3, 3, 0.02), np.arange(-3, 3, 0.02))\n",
    "print(xx.shape)\n",
    "print(yy.shape)\n",
    "\"\"\"Обучаем регрессию без балансировки по классам\"\"\"\n",
    "optimizer = GridSearchCV(LogisticRegression(), param_grid, cv=cv, n_jobs=-1)\n",
    "optimizer.fit(example_data_train, example_labels_train)\n",
    "\"\"\"Строим предсказания регрессии для сетки\"\"\"\n",
    "print(np.c_[xx.ravel(), yy.ravel()].shape)\n",
    "Z = optimizer.predict(np.c_[xx.ravel(), yy.ravel()]).reshape(xx.shape)\n",
    "plt.pcolormesh(xx, yy, Z, cmap=plt.cm.Pastel2)\n",
    "plt.scatter(data_0[:,0], data_0[:,1], color='red')\n",
    "plt.scatter(data_1[:,0], data_1[:,1], color='blue')\n",
    "\"\"\"Считаем AUC\"\"\"\n",
    "auc_wo_class_weights = roc_auc_score(example_labels_test, optimizer.predict_proba(example_data_test)[:,1])\n",
    "plt.title('Without class weights')\n",
    "plt.show()\n",
    "print('AUC: %f'%auc_wo_class_weights)\n",
    "\"\"\"Для второй регрессии в LogisticRegression передаём параметр class_weight='balanced'\"\"\"\n",
    "optimizer = GridSearchCV(LogisticRegression(class_weight='balanced'), param_grid, cv=cv, n_jobs=-1)\n",
    "optimizer.fit(example_data_train, example_labels_train)\n",
    "Z = optimizer.predict(np.c_[xx.ravel(), yy.ravel()]).reshape(xx.shape)\n",
    "plt.pcolormesh(xx, yy, Z, cmap=plt.cm.Pastel2)\n",
    "plt.scatter(data_0[:,0], data_0[:,1], color='red')\n",
    "plt.scatter(data_1[:,0], data_1[:,1], color='blue')\n",
    "auc_w_class_weights = roc_auc_score(example_labels_test, optimizer.predict_proba(example_data_test)[:,1])\n",
    "plt.title('With class weights')\n",
    "plt.show()\n",
    "print('AUC: %f'%auc_w_class_weights)"
   ]
  },
  {
   "cell_type": "markdown",
   "metadata": {},
   "source": [
    "Как видно, во втором случае классификатор находит разделяющую поверхность, которая ближе к истинной, т.е. меньше переобучается. Поэтому на сбалансированность классов в обучающей выборке всегда следует обращать внимание.\n",
    "\n",
    "Посмотрим, сбалансированны ли классы в нашей обучающей выборке:"
   ]
  },
  {
   "cell_type": "code",
   "execution_count": 299,
   "metadata": {},
   "outputs": [
    {
     "name": "stdout",
     "output_type": "stream",
     "text": [
      "2316\n",
      "1884\n"
     ]
    }
   ],
   "source": [
    "print(np.sum(y_train==0))\n",
    "print(np.sum(y_train==1))"
   ]
  },
  {
   "cell_type": "markdown",
   "metadata": {},
   "source": [
    "Видно, что нет.\n",
    "\n",
    "Исправить ситуацию можно разными способами, мы рассмотрим два:\n",
    "- давать объектам миноритарного класса больший вес при обучении классификатора (рассмотрен в примере выше)\n",
    "- досэмплировать объекты миноритарного класса, пока число объектов в обоих классах не сравняется"
   ]
  },
  {
   "cell_type": "markdown",
   "metadata": {},
   "source": [
    "## Задание 3. Балансировка классов.\n",
    "1. Обучите логистическую регрессию и гиперпараметры с балансировкой классов, используя веса (параметр class_weight='balanced' регрессии) на отмасштабированных выборках, полученных в предыдущем задании. Убедитесь, что вы нашли максимум accuracy по гиперпараметрам.\n",
    "2. Получите метрику ROC AUC на тестовой выборке.\n",
    "3. Сбалансируйте выборку, досэмплировав в неё объекты из меньшего класса. Для получения индексов объектов, которые требуется добавить в обучающую выборку, используйте следующую комбинацию вызовов функций:\n",
    "        np.random.seed(0)\n",
    "        indices_to_add = np.random.randint(...)\n",
    "        X_train_to_add = X_train[y_train.as_matrix() == 1,:][indices_to_add,:]\n",
    "   После этого добавьте эти объекты в начало или конец обучающей выборки. Дополните соответствующим      образом вектор ответов.\n",
    "4. Получите метрику ROC AUC на тестовой выборке, сравните с предыдущим результатом.\n",
    "5. Внесите ответы в выходной файл при помощи функции write_asnwer_3, передав в неё сначала ROC AUC для балансировки весами, а потом балансировки выборки вручную."
   ]
  },
  {
   "cell_type": "code",
   "execution_count": 300,
   "metadata": {},
   "outputs": [
    {
     "name": "stdout",
     "output_type": "stream",
     "text": [
      "0.7885714285714286\n",
      "0.7885714285714286\n",
      "0.8871850681370189\n",
      "-------------------------------------\n",
      "(1884, 5606)\n",
      "-------------------------------------\n",
      "432\n",
      "(432, 5606)\n",
      "(4200, 5606) (4632, 1)\n",
      "-------------------------------------\n",
      "0.7549654576856649\n",
      "0.887018020147225\n"
     ]
    }
   ],
   "source": [
    "def write_answer_3(auc_1, auc_2):\n",
    "    auc = (auc_1 + auc_2) / 2\n",
    "    with open(\"preprocessing_lr_answer3.txt\", \"w\") as fout:\n",
    "        fout.write(str(auc))\n",
    "        \n",
    "## class-weight='balanced'\n",
    "estimator_scaled = LogisticRegression(class_weight='balanced')\n",
    "optimizer_scaled = GridSearchCV(estimator_scaled, param_grid=param_grid, cv=3, n_jobs=-1)\n",
    "\n",
    "optimizer_scaled.fit(X_train_real_scaled, y_train)\n",
    "print(optimizer_scaled.best_score_)\n",
    "\n",
    "test_rock_scaled = roc_auc_score(y_test, optimizer_scaled.predict_proba(X_test_real_scaled)[:, 1])\n",
    "print(optimizer_scaled.best_score_)\n",
    "print(test_rock_scaled)\n",
    "# plot_scores(optimizer_scaled)\n",
    "print('-------------------------------------')\n",
    "\n",
    "## manual balancing of classes\n",
    "classes_indexes = y_train == 1\n",
    "first_class_indexes = np.array([])\n",
    "# first_class_objects = np.full((0, X_test_real_scaled.shape[1]), 0)\n",
    "\n",
    "for idx, class_number in enumerate(classes_indexes):\n",
    "    if (class_number[0] == 1):\n",
    "        first_class_indexes = np.append(first_class_indexes, idx)\n",
    "        \n",
    "first_class_indexes = np.array([int(x) for x in first_class_indexes])\n",
    "first_class_objects = X_train_real_scaled[first_class_indexes]\n",
    "print(first_class_objects.shape)\n",
    "print('-------------------------------------')\n",
    "\n",
    "## get random indexes of objects wich will be added to train dataset\n",
    "np.random.seed(0)\n",
    "print(np.sum(y_train==0) - np.sum(y_train==1))\n",
    "X_extension = X_train_real_scaled[np.random.randint(0, first_class_objects.shape[0],\n",
    "                                                                size=np.sum(y_train==0) - np.sum(y_train==1))]\n",
    "\n",
    "print(X_extension.shape)\n",
    "\n",
    "X_train_real_scaled_extended = np.vstack((np.copy(X_train_real_scaled), X_extension))\n",
    "y_train_extended = np.vstack((np.copy(y_train), np.ones((432, 1))))\n",
    "\n",
    "print(X_train_real_scaled.shape, y_train_extended.shape)\n",
    "print('-------------------------------------')\n",
    "\n",
    "## train on manually balanced data\n",
    "estimator_scaled = LogisticRegression()\n",
    "optimizer_scaled = GridSearchCV(estimator_scaled, param_grid=param_grid, cv=3, n_jobs=-1)\n",
    "\n",
    "optimizer_scaled.fit(X_train_real_scaled_extended, y_train_extended)\n",
    "print(optimizer_scaled.best_score_)\n",
    "\n",
    "test_rock_manual_scaled = roc_auc_score(y_test, optimizer_scaled.predict_proba(X_test_real_scaled)[:, 1])\n",
    "print(test_rock_manual_scaled)\n",
    "\n",
    "\n",
    "## write results in file\n",
    "write_answer_3(test_rock_scaled, test_rock_manual_scaled)"
   ]
  },
  {
   "cell_type": "markdown",
   "metadata": {},
   "source": [
    "## Стратификация выборок."
   ]
  },
  {
   "cell_type": "markdown",
   "metadata": {},
   "source": [
    "Рассмотрим ещё раз пример с выборками из нормальных распределений. Посмотрим ещё раз на качество классификаторов, получаемое на тестовых выборках:"
   ]
  },
  {
   "cell_type": "code",
   "execution_count": 302,
   "metadata": {},
   "outputs": [
    {
     "name": "stdout",
     "output_type": "stream",
     "text": [
      "AUC ROC for classifier without weighted classes 0.9066666666666666\n",
      "AUC ROC for classifier with weighted classes:  0.895\n"
     ]
    }
   ],
   "source": [
    "print('AUC ROC for classifier without weighted classes', auc_wo_class_weights)\n",
    "print('AUC ROC for classifier with weighted classes: ', auc_w_class_weights)"
   ]
  },
  {
   "cell_type": "markdown",
   "metadata": {},
   "source": [
    "Насколько эти цифры реально отражают качество работы алгоритма, если учесть, что тестовая выборка так же несбалансирована, как обучающая? При этом мы уже знаем, что алгоритм логистический регрессии чувствителен к балансировке классов в обучающей выборке, т.е. в данном случае на тесте он будет давать заведомо заниженные результаты. Метрика классификатора на тесте имела бы гораздо больший смысл, если бы объекты были разделы в выборках поровну: по 20 из каждого класса на обучени и на тесте. Переформируем выборки и подсчитаем новые ошибки:"
   ]
  },
  {
   "cell_type": "code",
   "execution_count": 303,
   "metadata": {},
   "outputs": [
    {
     "data": {
      "image/png": "[encoded data removed]",
      "text/plain": [
       "<Figure size 432x288 with 1 Axes>"
      ]
     },
     "metadata": {
      "needs_background": "light"
     },
     "output_type": "display_data"
    },
    {
     "name": "stdout",
     "output_type": "stream",
     "text": [
      "AUC ROC for stratified samples:  0.91\n"
     ]
    }
   ],
   "source": [
    "\"\"\"Разделим данные по классам поровну между обучающей и тестовой выборками\"\"\"\n",
    "example_data_train = np.vstack([data_0[:20,:], data_1[:20,:]])\n",
    "example_labels_train = np.concatenate([np.zeros((20)), np.ones((20))])\n",
    "example_data_test = np.vstack([data_0[20:,:], data_1[20:,:]])\n",
    "example_labels_test = np.concatenate([np.zeros((20)), np.ones((20))])\n",
    "\"\"\"Обучим классификатор\"\"\"\n",
    "optimizer = GridSearchCV(LogisticRegression(class_weight='balanced'), param_grid, cv=cv, n_jobs=-1)\n",
    "optimizer.fit(example_data_train, example_labels_train)\n",
    "Z = optimizer.predict(np.c_[xx.ravel(), yy.ravel()]).reshape(xx.shape)\n",
    "plt.pcolormesh(xx, yy, Z, cmap=plt.cm.Pastel2)\n",
    "plt.scatter(data_0[:,0], data_0[:,1], color='red')\n",
    "plt.scatter(data_1[:,0], data_1[:,1], color='blue')\n",
    "auc_stratified = roc_auc_score(example_labels_test, optimizer.predict_proba(example_data_test)[:,1])\n",
    "plt.title('With class weights')\n",
    "plt.show()\n",
    "print('AUC ROC for stratified samples: ', auc_stratified)"
   ]
  },
  {
   "cell_type": "markdown",
   "metadata": {},
   "source": [
    "Как видно, после данной процедуры ответ классификатора изменился незначительно, а вот качество увеличилось. При этом, в зависимости от того, как вы разбили изначально данные на обучение и тест, после сбалансированного разделения выборок итоговая метрика на тесте может как увеличиться, так и уменьшиться, но доверять ей можно значительно больше, т.к. она построена с учётом специфики работы классификатора. Данный подход является частным случаем т.н. метода стратификации."
   ]
  },
  {
   "cell_type": "markdown",
   "metadata": {},
   "source": [
    "## Задание 4. Стратификация выборки.\n",
    "\n",
    "1. По аналогии с тем, как это было сделано в начале задания, разбейте выборки X_real_zeros и X_cat_oh на обучение и тест, передавая в функцию \n",
    "        train_test_split(...)\n",
    "   дополнительно параметр \n",
    "       stratify=y\n",
    "   Также обязательно передайте в функцию переменную random_state=0.\n",
    "2. Выполните масштабирование новых вещественных выборок, обучите классификатор и его гиперпараметры при помощи метода кросс-валидации, делая поправку на несбалансированные классы при помощи весов. Убедитесь в том, что нашли оптимум accuracy по гиперпараметрам.\n",
    "3. Оцените качество классификатора метрике AUC ROC на тестовой выборке.\n",
    "4. Полученный ответ передайте функции write_answer_4"
   ]
  },
  {
   "cell_type": "code",
   "execution_count": 311,
   "metadata": {},
   "outputs": [
    {
     "name": "stdout",
     "output_type": "stream",
     "text": [
      "0.8016666666666666\n",
      "0.879348713049622\n"
     ]
    }
   ],
   "source": [
    "def write_answer_4(auc):\n",
    "    with open(\"preprocessing_lr_answer4.txt\", \"w\") as fout:\n",
    "        fout.write(str(auc))\n",
    "        \n",
    "(X_train_real_zeros_task_4,\n",
    " X_test_real_zeros_task_4,\n",
    " y_train_4, y_test_4) = train_test_split(X_real_zeros, y.values.reshape(6000, 1), \n",
    "                                     test_size=0.3, \n",
    "                                     random_state=0, stratify=y)\n",
    "\n",
    "(X_train_cat_oh_4,\n",
    " X_test_cat_oh_4) = train_test_split(X_cat_oh, \n",
    "                                   test_size=0.3,\n",
    "                                   random_state=0, stratify=y)\n",
    "\n",
    "scaler = StandardScaler()\n",
    "scaler.fit(X_train_real_zeros_task_4, y_train_4)\n",
    "X_train_real_scaled_4 = scaler.transform(X_train_real_zeros_task_4)\n",
    "X_test_real_scaled_4 = scaler.transform(X_test_real_zeros_task_4)\n",
    "\n",
    "zeroes_train_data_4 = np.hstack((X_train_real_scaled_4, X_train_cat_oh_4))\n",
    "zeroes_test_data_4 = np.hstack((X_test_real_scaled_4, X_test_cat_oh_4))\n",
    "\n",
    "\n",
    "estimator_4 = LogisticRegression(class_weight='balanced')\n",
    "optimizer_4 = GridSearchCV(estimator_4, param_grid=param_grid, cv=3)\n",
    "\n",
    "optimizer_4.fit(zeroes_train_data_4, y_train_4)\n",
    "print(optimizer_4.best_score_)\n",
    "\n",
    "test_rock_scaled_4 = roc_auc_score(y_test_4, optimizer_4.predict_proba(zeroes_test_data_4)[:, 1])\n",
    "print(test_rock_scaled_4)\n",
    "\n",
    "write_answer_4(test_rock_scaled_4)"
   ]
  },
  {
   "cell_type": "markdown",
   "metadata": {},
   "source": [
    "Теперь вы разобрались с основными этапами предобработки данных для линейных классификаторов.\n",
    "Напомним основные этапы:\n",
    "- обработка пропущенных значений\n",
    "- обработка категориальных признаков\n",
    "- стратификация\n",
    "- балансировка классов\n",
    "- масштабирование\n",
    "\n",
    "Данные действия с данными рекомендуется проводить всякий раз, когда вы планируете использовать линейные методы. Рекомендация по выполнению многих из этих пунктов справедлива и для других методов машинного обучения."
   ]
  },
  {
   "cell_type": "markdown",
   "metadata": {},
   "source": [
    "## Трансформация признаков.\n",
    "\n",
    "Теперь рассмотрим способы преобразования признаков. Существует достаточно много различных способов трансформации признаков, которые позволяют при помощи линейных методов получать более сложные разделяющие поверхности. Самым базовым является полиномиальное преобразование признаков. Его идея заключается в том, что помимо самих признаков вы дополнительно включаете набор все полиномы степени $p$, которые можно из них построить. Для случая $p=2$ преобразование выглядит следующим образом:\n",
    "\n",
    "$$ \\phi(x_i) = [x_{i,1}^2, ..., x_{i,D}^2, x_{i,1}x_{i,2}, ..., x_{i,D} x_{i,D-1}, x_{i,1}, ..., x_{i,D}, 1] $$\n",
    "\n",
    "Рассмотрим принцип работы данных признаков на данных, сэмплированных их гауссиан:"
   ]
  },
  {
   "cell_type": "code",
   "execution_count": 313,
   "metadata": {},
   "outputs": [
    {
     "data": {
      "image/png": "[encoded data removed]",
      "text/plain": [
       "<Figure size 432x288 with 1 Axes>"
      ]
     },
     "metadata": {
      "needs_background": "light"
     },
     "output_type": "display_data"
    }
   ],
   "source": [
    "from sklearn.preprocessing import PolynomialFeatures\n",
    "\n",
    "\"\"\"Инициализируем класс, который выполняет преобразование\"\"\"\n",
    "transform = PolynomialFeatures(2)\n",
    "\"\"\"Обучаем преобразование на обучающей выборке, применяем его к тестовой\"\"\"\n",
    "example_data_train_poly = transform.fit_transform(example_data_train)\n",
    "example_data_test_poly = transform.transform(example_data_test)\n",
    "\"\"\"Обращаем внимание на параметр fit_intercept=False\"\"\"\n",
    "optimizer = GridSearchCV(LogisticRegression(class_weight='balanced', fit_intercept=False), param_grid, cv=cv)\n",
    "optimizer.fit(example_data_train_poly, example_labels_train)\n",
    "Z = optimizer.predict(transform.transform(np.c_[xx.ravel(), yy.ravel()])).reshape(xx.shape)\n",
    "plt.pcolormesh(xx, yy, Z, cmap=plt.cm.Pastel2)\n",
    "plt.scatter(data_0[:,0], data_0[:,1], color='red')\n",
    "plt.scatter(data_1[:,0], data_1[:,1], color='blue')\n",
    "plt.title('With class weights')\n",
    "plt.show()"
   ]
  },
  {
   "cell_type": "markdown",
   "metadata": {},
   "source": [
    "Видно, что данный метод преобразования данных уже позволяет строить нелинейные разделяющие поверхности, которые могут более тонко подстраиваться под данные и находить более сложные зависимости. Число признаков в новой модели:"
   ]
  },
  {
   "cell_type": "code",
   "execution_count": 314,
   "metadata": {},
   "outputs": [
    {
     "name": "stdout",
     "output_type": "stream",
     "text": [
      "(40, 6)\n"
     ]
    }
   ],
   "source": [
    "print(example_data_train_poly.shape)"
   ]
  },
  {
   "cell_type": "markdown",
   "metadata": {},
   "source": [
    "Но при этом одновременно данный метод способствует более сильной способности модели к переобучению из-за быстрого роста числа признаком с увеличением степени $p$. Рассмотрим пример с $p=11$:"
   ]
  },
  {
   "cell_type": "code",
   "execution_count": 316,
   "metadata": {},
   "outputs": [
    {
     "data": {
      "image/png": "[encoded data removed]",
      "text/plain": [
       "<Figure size 432x288 with 1 Axes>"
      ]
     },
     "metadata": {
      "needs_background": "light"
     },
     "output_type": "display_data"
    }
   ],
   "source": [
    "transform = PolynomialFeatures(11)\n",
    "example_data_train_poly = transform.fit_transform(example_data_train)\n",
    "example_data_test_poly = transform.transform(example_data_test)\n",
    "optimizer = GridSearchCV(LogisticRegression(class_weight='balanced', fit_intercept=False), param_grid, cv=cv)\n",
    "optimizer.fit(example_data_train_poly, example_labels_train)\n",
    "Z = optimizer.predict(transform.transform(np.c_[xx.ravel(), yy.ravel()])).reshape(xx.shape)\n",
    "plt.pcolormesh(xx, yy, Z, cmap=plt.cm.Pastel2)\n",
    "plt.scatter(data_0[:,0], data_0[:,1], color='red')\n",
    "plt.scatter(data_1[:,0], data_1[:,1], color='blue')\n",
    "plt.title('Corrected class weights')\n",
    "plt.show()"
   ]
  },
  {
   "cell_type": "markdown",
   "metadata": {},
   "source": [
    "Количество признаков в данной модели:"
   ]
  },
  {
   "cell_type": "code",
   "execution_count": 317,
   "metadata": {},
   "outputs": [
    {
     "name": "stdout",
     "output_type": "stream",
     "text": [
      "(40, 78)\n"
     ]
    }
   ],
   "source": [
    "print(example_data_train_poly.shape)"
   ]
  },
  {
   "cell_type": "markdown",
   "metadata": {},
   "source": [
    "## Задание 5. Трансформация вещественных признаков.\n",
    "\n",
    "1. Реализуйте по аналогии с примером преобразование вещественных признаков модели при помощи полиномиальных признаков степени 2\n",
    "2. Постройте логистическую регрессию на новых данных, одновременно подобрав оптимальные гиперпараметры. Обращаем внимание, что в преобразованных признаках уже присутствует столбец, все значения которого равны 1, поэтому обучать дополнительно значение $b$ не нужно, его функцию выполняет один из весов $w$. В связи с этим во избежание линейной зависимости в датасете, в вызов класса логистической регрессии требуется передавать параметр fit_intercept=False. Для обучения используйте стратифицированные выборки с балансировкой классов при помощи весов, преобразованные признаки требуется заново отмасштабировать.\n",
    "3. Получите AUC ROC на тесте и сравните данный результат с использованием обычных признаков.\n",
    "4. Передайте полученный ответ в функцию write_answer_5."
   ]
  },
  {
   "cell_type": "code",
   "execution_count": 320,
   "metadata": {},
   "outputs": [
    {
     "name": "stdout",
     "output_type": "stream",
     "text": [
      "0.8054761904761905\n",
      "0.8869913025739007\n"
     ]
    }
   ],
   "source": [
    "def write_answer_5(auc):\n",
    "    with open(\"preprocessing_lr_answer5.txt\", \"w\") as fout:\n",
    "        fout.write(str(auc))\n",
    "\n",
    "\n",
    "(X_train_real_zeros_task_5,\n",
    " X_test_real_zeros_task_5,\n",
    " y_train_5, y_test_5) = train_test_split(X_real_zeros, y.values.reshape(6000, 1), \n",
    "                                     test_size=0.3, \n",
    "                                     random_state=0, stratify=y)\n",
    "\n",
    "transform = PolynomialFeatures(2)\n",
    "transform.fit(X_train_real_zeros_task_5)\n",
    "polynomial_train_transformed_5 = transform.transform(X_train_real_zeros_task_5)\n",
    "poynomial_test_transformed_5 = transform.transform(X_test_real_zeros_task_5)\n",
    "\n",
    "\n",
    "(X_train_cat_oh_5,\n",
    " X_test_cat_oh_5) = train_test_split(X_cat_oh, \n",
    "                                   test_size=0.3,\n",
    "                                   random_state=0, stratify=y)\n",
    "\n",
    "scaler = StandardScaler()\n",
    "scaler.fit(polynomial_train_transformed_5, y_train_5)\n",
    "polynomial_train_scaled_5 = scaler.transform(polynomial_train_transformed_5)\n",
    "polynomial_test_scaled_5 = scaler.transform(poynomial_test_transformed_5)\n",
    "\n",
    "zeroes_train_data_5 = np.hstack((polynomial_train_scaled_5, X_train_cat_oh_5))\n",
    "zeroes_test_data_5 = np.hstack((polynomial_test_scaled_5, X_test_cat_oh_5))\n",
    "\n",
    "\n",
    "estimator_5 = LogisticRegression(class_weight='balanced', fit_intercept=False)\n",
    "optimizer_5 = GridSearchCV(estimator_5, param_grid=param_grid, cv=3)\n",
    "\n",
    "optimizer_5.fit(zeroes_train_data_5, y_train_5)\n",
    "print(optimizer_5.best_score_)\n",
    "\n",
    "test_rock_5 = roc_auc_score(y_test_5, optimizer_5.predict_proba(zeroes_test_data_5)[:, 1])\n",
    "print(test_rock_5)\n",
    "\n",
    "write_answer_5(test_rock_5)"
   ]
  },
  {
   "cell_type": "markdown",
   "metadata": {},
   "source": [
    "## Регрессия Lasso.\n",
    "К логистической регрессии также можно применить L1-регуляризацию (Lasso), вместо регуляризации L2, которая будет приводить к отбору признаков. Вам предлагается применить L1-регуляцию к исходным признакам и проинтерпретировать полученные результаты (применение отбора признаков к полиномиальным так же можно успешно применять, но в нём уже будет отсутствовать компонента интерпретации, т.к. смысловое значение оригинальных признаков известно, а полиномиальных - уже может быть достаточно нетривиально). Для вызова логистической регрессии с L1-регуляризацией достаточно передать параметр penalty='l1' в инициализацию класса."
   ]
  },
  {
   "cell_type": "markdown",
   "metadata": {},
   "source": [
    "## Задание 6. Отбор признаков при помощи регрессии Lasso.\n",
    "1. Обучите регрессию Lasso на стратифицированных отмасштабированных выборках, используя балансировку классов при помощи весов.\n",
    "2. Получите ROC AUC регрессии, сравните его с предыдущими результатами.\n",
    "3. Найдите номера вещественных признаков, которые имеют нулевые веса в итоговой модели.\n",
    "4. Передайте их список функции write_answer_6."
   ]
  },
  {
   "cell_type": "code",
   "execution_count": 335,
   "metadata": {},
   "outputs": [
    {
     "name": "stdout",
     "output_type": "stream",
     "text": [
      "(4200, 13)\n",
      "0.8076190476190476\n",
      "0.8765785231292821\n",
      "{'C': 1}\n",
      "[[ 0.00762956  0.0385282  -0.09040184 ...  1.47993487  0.\n",
      "   0.34603771]]\n",
      "[4, 6, 7]\n"
     ]
    }
   ],
   "source": [
    "def write_answer_6(features):\n",
    "    with open(\"preprocessing_lr_answer6.txt\", \"w\") as fout:\n",
    "        fout.write(\" \".join([str(num) for num in features]))\n",
    "        \n",
    "(X_train_real_zeros_task_4,\n",
    " X_test_real_zeros_task_4,\n",
    " y_train_4, y_test_4) = train_test_split(X_real_zeros, y.values.reshape(6000, 1), \n",
    "                                     test_size=0.3, \n",
    "                                     random_state=0, stratify=y)\n",
    "\n",
    "(X_train_cat_oh_4,\n",
    " X_test_cat_oh_4) = train_test_split(X_cat_oh, \n",
    "                                   test_size=0.3,\n",
    "                                   random_state=0, stratify=y)\n",
    "\n",
    "scaler = StandardScaler()\n",
    "scaler.fit(X_train_real_zeros_task_4, y_train_4)\n",
    "X_train_real_scaled_4 = scaler.transform(X_train_real_zeros_task_4)\n",
    "X_test_real_scaled_4 = scaler.transform(X_test_real_zeros_task_4)\n",
    "\n",
    "print(X_train_real_scaled_4.shape)\n",
    "zeroes_train_data_4 = np.hstack((X_train_real_scaled_4, X_train_cat_oh_4))\n",
    "zeroes_test_data_4 = np.hstack((X_test_real_scaled_4, X_test_cat_oh_4))\n",
    "\n",
    "\n",
    "estimator_4 = LogisticRegression(class_weight='balanced', penalty='l1')\n",
    "optimizer_4 = GridSearchCV(estimator_4, param_grid=param_grid, cv=3)\n",
    "\n",
    "optimizer_4.fit(zeroes_train_data_4, y_train_4)\n",
    "print(optimizer_4.best_score_)\n",
    "\n",
    "test_rock_scaled_4 = roc_auc_score(y_test_4, optimizer_4.predict_proba(zeroes_test_data_4)[:, 1])\n",
    "print(test_rock_scaled_4)\n",
    "print(optimizer_4.best_params_)\n",
    "print(optimizer_4.best_estimator_.coef_)\n",
    "coefs = np.array([round(x, 5) for x in optimizer_4.best_estimator_.coef_[0][:13]])\n",
    "coefs = coefs == 0\n",
    "\n",
    "result = []\n",
    "for idx, x in enumerate(coefs):\n",
    "    if x:\n",
    "        result.append(idx)\n",
    "print(result)\n",
    "\n",
    "write_answer_6(result)"
   ]
  },
  {
   "cell_type": "code",
   "execution_count": null,
   "metadata": {},
   "outputs": [],
   "source": []
  }
 ],
 "metadata": {
  "kernelspec": {
   "display_name": "Python 3",
   "language": "python",
   "name": "python3"
  },
  "language_info": {
   "codemirror_mode": {
    "name": "ipython",
    "version": 3
   },
   "file_extension": ".py",
   "mimetype": "text/x-python",
   "name": "python",
   "nbconvert_exporter": "python",
   "pygments_lexer": "ipython3",
   "version": "3.7.4"
  }
 },
 "nbformat": 4,
 "nbformat_minor": 1
}
