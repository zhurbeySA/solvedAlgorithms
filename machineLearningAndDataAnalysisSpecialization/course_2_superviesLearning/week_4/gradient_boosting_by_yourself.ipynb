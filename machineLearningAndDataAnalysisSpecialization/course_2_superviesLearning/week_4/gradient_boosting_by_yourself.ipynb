{
 "cells": [
  {
   "cell_type": "markdown",
   "metadata": {},
   "source": [
    "# Градиентный бустинг своими руками\n",
    "\n",
    "**Внимание:** в тексте задания произошли изменения - поменялось число деревьев (теперь 50), правило изменения величины шага в задании 3 и добавился параметр `random_state` у решающего дерева. Правильные ответы не поменялись, но теперь их проще получить. Также исправлена опечатка в функции `gbm_predict`.\n",
    "\n",
    "В этом задании будет использоваться датасет `boston` из `sklearn.datasets`. Оставьте последние 25% объектов для контроля качества, разделив `X` и `y` на `X_train`, `y_train` и `X_test`, `y_test`.\n",
    "\n",
    "Целью задания будет реализовать простой вариант градиентного бустинга над регрессионными деревьями для случая квадратичной функции потерь."
   ]
  },
  {
   "cell_type": "code",
   "execution_count": 111,
   "metadata": {},
   "outputs": [
    {
     "name": "stdout",
     "output_type": "stream",
     "text": [
      "Populating the interactive namespace from numpy and matplotlib\n"
     ]
    }
   ],
   "source": [
    "import numpy as np\n",
    "import math\n",
    "\n",
    "from sklearn import model_selection, datasets, metrics, ensemble, tree\n",
    "\n",
    "%pylab inline"
   ]
  },
  {
   "cell_type": "code",
   "execution_count": 100,
   "metadata": {},
   "outputs": [
    {
     "name": "stdout",
     "output_type": "stream",
     "text": [
      "(506, 13) (506,)\n",
      "(379, 13) (127, 13)\n",
      "(379,) (127,)\n"
     ]
    }
   ],
   "source": [
    "data = datasets.load_boston()\n",
    "X = data.data\n",
    "y = data.target\n",
    "print(X.shape, y.shape)\n",
    "\n",
    "# X_train, X_test, y_train, y_test = model_selection.train_test_split(X, y, test_size=0.25)\n",
    "X_train, X_test = X[:int(X.shape[0] * 0.75), :], X[int(X.shape[0] * 0.75):, :]\n",
    "y_train, y_test = y[:int(y.shape[0] * 0.75)], y[int(y.shape[0] * 0.75):]\n",
    "print(X_train.shape, X_test.shape)\n",
    "print(y_train.shape, y_test.shape)"
   ]
  },
  {
   "cell_type": "markdown",
   "metadata": {},
   "source": [
    "## Задание 1\n",
    "\n",
    "Как вы уже знаете из лекций, **бустинг** - это метод построения композиций базовых алгоритмов с помощью последовательного добавления к текущей композиции нового алгоритма с некоторым коэффициентом. \n",
    "\n",
    "Градиентный бустинг обучает каждый новый алгоритм так, чтобы он приближал антиградиент ошибки по ответам композиции на обучающей выборке. Аналогично минимизации функций методом градиентного спуска, в градиентном бустинге мы подправляем композицию, изменяя алгоритм в направлении антиградиента ошибки.\n",
    "\n",
    "Воспользуйтесь формулой из лекций, задающей ответы на обучающей выборке, на которые нужно обучать новый алгоритм (фактически это лишь чуть более подробно расписанный градиент от ошибки), и получите частный ее случай, если функция потерь `L` - квадрат отклонения ответа композиции `a(x)` от правильного ответа `y` на данном `x`.\n",
    "\n",
    "Если вы давно не считали производную самостоятельно, вам поможет таблица производных элементарных функций (которую несложно найти в интернете) и правило дифференцирования сложной функции. После дифференцирования квадрата у вас возникнет множитель 2 — т.к. нам все равно предстоит выбирать коэффициент, с которым будет добавлен новый базовый алгоритм, проигноируйте этот множитель при дальнейшем построении алгоритма."
   ]
  },
  {
   "cell_type": "code",
   "execution_count": 101,
   "metadata": {},
   "outputs": [],
   "source": [
    "def get_direction(X, y):\n",
    "    z = gbm_predict(X)\n",
    "    result = -(z - y)\n",
    "\n",
    "    return result"
   ]
  },
  {
   "cell_type": "markdown",
   "metadata": {},
   "source": [
    "## Задание 2\n",
    "\n",
    "Заведите массив для объектов `DecisionTreeRegressor` (будем их использовать в качестве базовых алгоритмов) и для вещественных чисел (это будут коэффициенты перед базовыми алгоритмами). \n",
    "\n",
    "В цикле от обучите последовательно 50 решающих деревьев с параметрами `max_depth=5` и `random_state=42` (остальные параметры - по умолчанию). В бустинге зачастую используются сотни и тысячи деревьев, но мы ограничимся 50, чтобы алгоритм работал быстрее, и его было проще отлаживать (т.к. цель задания разобраться, как работает метод). Каждое дерево должно обучаться на одном и том же множестве объектов, но ответы, которые учится прогнозировать дерево, будут меняться в соответствие с полученным в задании 1 правилом. \n",
    "\n",
    "Попробуйте для начала всегда брать коэффициент равным 0.9. Обычно оправдано выбирать коэффициент значительно меньшим - порядка 0.05 или 0.1, но т.к. в нашем учебном примере на стандартном датасете будет всего 50 деревьев, возьмем для начала шаг побольше.\n",
    "\n",
    "В процессе реализации обучения вам потребуется функция, которая будет вычислять прогноз построенной на данный момент композиции деревьев на выборке `X`:\n",
    "\n",
    "```\n",
    "def gbm_predict(X):\n",
    "    return [sum([coeff * algo.predict([x])[0] for algo, coeff in zip(base_algorithms_list, coefficients_list)]) for x in X]\n",
    "(считаем, что base_algorithms_list - список с базовыми алгоритмами, coefficients_list - список с коэффициентами перед алгоритмами)\n",
    "```\n",
    "\n",
    "Эта же функция поможет вам получить прогноз на контрольной выборке и оценить качество работы вашего алгоритма с помощью `mean_squared_error` в `sklearn.metrics`. \n",
    "\n",
    "Возведите результат в степень 0.5, чтобы получить `RMSE`. Полученное значение `RMSE` — **ответ в пункте 2**."
   ]
  },
  {
   "cell_type": "code",
   "execution_count": 102,
   "metadata": {},
   "outputs": [
    {
     "name": "stdout",
     "output_type": "stream",
     "text": [
      "5.455565103009402\n"
     ]
    }
   ],
   "source": [
    "def initializeTree(y, pred):\n",
    "    return 0\n",
    "\n",
    "\n",
    "initializeTree.predict = lambda x: [0]\n",
    "\n",
    "base_algorithms_list = [initializeTree]\n",
    "coefficients_list = [0.9]\n",
    "def gbm_predict(X):\n",
    "    return [sum([coeff * algo.predict([x])[0] for algo, coeff in zip(base_algorithms_list, coefficients_list)]) for x in X]\n",
    "\n",
    "\n",
    "for x in range(0, 50, 1):\n",
    "    nextTree = tree.DecisionTreeRegressor(max_depth=5, random_state=42)\n",
    "    nextTree.fit(X_train, get_direction(X_train, y_train))\n",
    "    base_algorithms_list.append(nextTree)\n",
    "    coefficients_list.append(0.9)\n",
    "\n",
    "    \n",
    "print(math.sqrt(metrics.mean_squared_error(y_test, gbm_predict(X_test))))"
   ]
  },
  {
   "cell_type": "markdown",
   "metadata": {},
   "source": [
    "## Задание 3\n",
    "\n",
    "Вас может также беспокоить, что двигаясь с постоянным шагом, вблизи минимума ошибки ответы на обучающей выборке меняются слишком резко, перескакивая через минимум. \n",
    "\n",
    "Попробуйте уменьшать вес перед каждым алгоритмом с каждой следующей итерацией по формуле `0.9 / (1.0 + i)`, где `i` - номер итерации (от 0 до 49). Используйте качество работы алгоритма как **ответ в пункте 3**. \n",
    "\n",
    "В реальности часто применяется следующая стратегия выбора шага: как только выбран алгоритм, подберем коэффициент перед ним численным методом оптимизации таким образом, чтобы отклонение от правильных ответов было минимальным. Мы не будем предлагать вам реализовать это для выполнения задания, но рекомендуем попробовать разобраться с такой стратегией и реализовать ее при случае для себя."
   ]
  },
  {
   "cell_type": "code",
   "execution_count": 103,
   "metadata": {},
   "outputs": [
    {
     "name": "stdout",
     "output_type": "stream",
     "text": [
      "4.812550945781193\n"
     ]
    }
   ],
   "source": [
    "def initializeTree(y, pred):\n",
    "    return 0\n",
    "\n",
    "\n",
    "initializeTree.predict = lambda x: [0]\n",
    "\n",
    "base_algorithms_list = [initializeTree]\n",
    "coefficients_list = [0.9]\n",
    "def gbm_predict(X):\n",
    "    return [sum([coeff * algo.predict([x])[0] for algo, coeff in zip(base_algorithms_list, coefficients_list)]) for x in X]\n",
    "\n",
    "\n",
    "for x in range(0, 50, 1):\n",
    "    nextTree = tree.DecisionTreeRegressor(max_depth=5, random_state=42)\n",
    "    nextTree.fit(X_train, get_direction(X_train, y_train))\n",
    "    base_algorithms_list.append(nextTree)\n",
    "    coefficients_list.append(0.9 / (1.0 + x))\n",
    "\n",
    "    \n",
    "print(math.sqrt(metrics.mean_squared_error(y_test, gbm_predict(X_test))))"
   ]
  },
  {
   "cell_type": "markdown",
   "metadata": {},
   "source": [
    "## Задание 4\n",
    "\n",
    "Реализованный вами метод - градиентный бустинг над деревьями - очень популярен в машинном обучении. Он представлен как в самой библиотеке `sklearn`, так и в сторонней библиотеке `XGBoost`, которая имеет свой питоновский интерфейс. На практике `XGBoost` работает заметно лучше `GradientBoostingRegressor` из `sklearn`, но для этого задания вы можете использовать любую реализацию. \n",
    "\n",
    "Исследуйте, переобучается ли градиентный бустинг с ростом числа итераций (и подумайте, почему), а также с ростом глубины деревьев. На основе наблюдений выпишите через пробел номера правильных из приведенных ниже утверждений в порядке возрастания номера (это будет **ответ в п.4**):\n",
    "\n",
    "    1. С увеличением числа деревьев, начиная с некоторого момента, качество работы градиентного бустинга не меняется существенно.\n",
    "\n",
    "    2. С увеличением числа деревьев, начиная с некоторого момента, градиентный бустинг начинает переобучаться.\n",
    "\n",
    "    3. С ростом глубины деревьев, начиная с некоторого момента, качество работы градиентного бустинга на тестовой выборке начинает ухудшаться.\n",
    "\n",
    "    4. С ростом глубины деревьев, начиная с некоторого момента, качество работы градиентного бустинга перестает существенно изменяться"
   ]
  },
  {
   "cell_type": "code",
   "execution_count": 128,
   "metadata": {},
   "outputs": [
    {
     "data": {
      "text/plain": [
       "[35.00299212598424,\n",
       " 50.31456692913385,\n",
       " 50.31456692913385,\n",
       " 50.31456692913385,\n",
       " 50.31456692913385,\n",
       " 50.31456692913385,\n",
       " 50.31456692913385,\n",
       " 50.31456692913385,\n",
       " 50.31456692913385,\n",
       " 50.31456692913385,\n",
       " 50.31456692913385,\n",
       " 50.31456692913385,\n",
       " 50.31456692913385,\n",
       " 50.31456692913385,\n",
       " 50.31456692913385,\n",
       " 50.31456692913385,\n",
       " 50.31456692913385,\n",
       " 50.31456692913385,\n",
       " 50.31456692913385,\n",
       " 50.31456692913385,\n",
       " 50.31456692913385,\n",
       " 50.31456692913385,\n",
       " 50.31456692913385,\n",
       " 50.31456692913385,\n",
       " 50.31456692913385,\n",
       " 50.31456692913385,\n",
       " 50.31456692913385,\n",
       " 50.31456692913385,\n",
       " 50.31456692913385,\n",
       " 50.31456692913385,\n",
       " 50.31456692913385,\n",
       " 50.31456692913385,\n",
       " 50.31456692913385,\n",
       " 50.31456692913385,\n",
       " 50.31456692913385,\n",
       " 50.31456692913385,\n",
       " 50.31456692913385,\n",
       " 50.31456692913385,\n",
       " 50.31456692913385,\n",
       " 50.31456692913385,\n",
       " 50.31456692913385]"
      ]
     },
     "execution_count": 128,
     "metadata": {},
     "output_type": "execute_result"
    }
   ],
   "source": [
    "depth_dependency"
   ]
  },
  {
   "cell_type": "code",
   "execution_count": 132,
   "metadata": {},
   "outputs": [
    {
     "data": {
      "text/plain": [
       "[<matplotlib.lines.Line2D at 0x1c304c0710>]"
      ]
     },
     "execution_count": 132,
     "metadata": {},
     "output_type": "execute_result"
    },
    {
     "data": {
      "image/png": "[encoded data removed]",
      "text/plain": [
       "<Figure size 432x288 with 1 Axes>"
      ]
     },
     "metadata": {
      "needs_background": "light"
     },
     "output_type": "display_data"
    }
   ],
   "source": [
    "import xgboost as xgb\n",
    "\n",
    "depth_dependency = []\n",
    "\n",
    "for x in range(2, 28, 5):\n",
    "    estimator = xgb.XGBClassifier(max_depth=x)\n",
    "    estimator.fit(X_train, y_train)\n",
    "    depth_dependency.append(metrics.mean_squared_error(y_test, estimator.predict(X_test)))\n",
    "\n",
    "pyplot.plot(range(2, 28, 5), depth_dependency)"
   ]
  },
  {
   "cell_type": "code",
   "execution_count": 125,
   "metadata": {},
   "outputs": [
    {
     "name": "stdout",
     "output_type": "stream",
     "text": [
      "[29.564330708661416, 40.092440944881886, 39.241811023622056, 42.46236220472441, 38.77937007874014, 40.08456692913386, 40.06047244094488, 41.41165354330708, 40.94771653543307, 41.56874015748031, 44.180551181102366, 42.80007874015748, 44.25582677165354, 44.36377952755905, 44.59944881889764, 43.28771653543307, 43.35173228346456, 44.02629921259842, 44.12527559055118, 50.47015748031496, 50.6648031496063, 49.24527559055118, 49.2667716535433, 49.9084251968504, 53.00440944881889, 53.01952755905511, 52.98669291338582, 52.98669291338582, 52.98669291338582, 52.9640157480315, 41.4303937007874, 53.36803149606299, 40.7783464566929, 40.81999999999999, 40.81999999999999, 40.81999999999999, 42.01133858267716, 42.05425196850393, 42.05425196850393, 42.05425196850393, 40.649763779527554]\n"
     ]
    },
    {
     "data": {
      "text/plain": [
       "[<matplotlib.lines.Line2D at 0x1c2f51db90>]"
      ]
     },
     "execution_count": 125,
     "metadata": {},
     "output_type": "execute_result"
    },
    {
     "data": {
      "image/png": "[encoded data removed]",
      "text/plain": [
       "<Figure size 432x288 with 1 Axes>"
      ]
     },
     "metadata": {
      "needs_background": "light"
     },
     "output_type": "display_data"
    }
   ],
   "source": [
    "iterations_dependency = []\n",
    "\n",
    "for x in range(2, 203, 5):\n",
    "    estimator = xgb.XGBClassifier(n_estimators=x)\n",
    "    estimator.fit(X_train, y_train)\n",
    "    iterations_dependency.append(metrics.mean_squared_error(y_test, estimator.predict(X_test)))\n",
    "    \n",
    "print(iterations_dependency)\n",
    "pyplot.plot(range(2, 203, 5), iterations_dependency)"
   ]
  },
  {
   "cell_type": "markdown",
   "metadata": {},
   "source": [
    "## Задание 5\n",
    "\n",
    "Сравните получаемое с помощью градиентного бустинга качество с качеством работы линейной регрессии. \n",
    "\n",
    "Для этого обучите `LinearRegression` из `sklearn.linear_model` (с параметрами по умолчанию) на обучающей выборке и оцените для прогнозов полученного алгоритма на тестовой выборке `RMSE`. Полученное качество - ответ в **пункте 5**. \n",
    "\n",
    "В данном примере качество работы простой модели должно было оказаться хуже, но не стоит забывать, что так бывает не всегда. В заданиях к этому курсу вы еще встретите пример обратной ситуации."
   ]
  },
  {
   "cell_type": "code",
   "execution_count": 130,
   "metadata": {},
   "outputs": [
    {
     "name": "stdout",
     "output_type": "stream",
     "text": [
      "8.254979753549161\n"
     ]
    }
   ],
   "source": [
    "import sklearn.linear_model\n",
    "estimator = sklearn.linear_model.LinearRegression()\n",
    "estimator.fit(X_train, y_train)\n",
    "\n",
    "print(math.sqrt(metrics.mean_squared_error(y_test, estimator.predict(X_test))))"
   ]
  },
  {
   "cell_type": "code",
   "execution_count": null,
   "metadata": {},
   "outputs": [],
   "source": []
  }
 ],
 "metadata": {
  "kernelspec": {
   "display_name": "Python 3",
   "language": "python",
   "name": "python3"
  },
  "language_info": {
   "codemirror_mode": {
    "name": "ipython",
    "version": 3
   },
   "file_extension": ".py",
   "mimetype": "text/x-python",
   "name": "python",
   "nbconvert_exporter": "python",
   "pygments_lexer": "ipython3",
   "version": "3.7.4"
  }
 },
 "nbformat": 4,
 "nbformat_minor": 4
}
