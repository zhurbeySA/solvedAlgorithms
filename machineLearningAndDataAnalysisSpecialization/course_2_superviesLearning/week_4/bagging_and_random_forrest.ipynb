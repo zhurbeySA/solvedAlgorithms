{
 "cells": [
  {
   "cell_type": "code",
   "execution_count": 3,
   "metadata": {},
   "outputs": [],
   "source": [
    "import sklearn\n",
    "import numpy as np"
   ]
  },
  {
   "cell_type": "code",
   "execution_count": 4,
   "metadata": {},
   "outputs": [
    {
     "name": "stdout",
     "output_type": "stream",
     "text": [
      "Populating the interactive namespace from numpy and matplotlib\n"
     ]
    }
   ],
   "source": [
    "%pylab inline"
   ]
  },
  {
   "cell_type": "code",
   "execution_count": 5,
   "metadata": {},
   "outputs": [],
   "source": [
    "from sklearn import datasets, ensemble, tree\n",
    "import sklearn.model_selection\n",
    "import sklearn.metrics"
   ]
  },
  {
   "cell_type": "code",
   "execution_count": 6,
   "metadata": {},
   "outputs": [],
   "source": [
    "data = sklearn.datasets.load_digits()\n",
    "\n",
    "y = np.array(data.target)\n",
    "X = np.array(data.data)"
   ]
  },
  {
   "cell_type": "code",
   "execution_count": 7,
   "metadata": {},
   "outputs": [
    {
     "name": "stdout",
     "output_type": "stream",
     "text": [
      "(1797,) (1797, 64)\n"
     ]
    }
   ],
   "source": [
    "print(y.shape, X.shape)"
   ]
  },
  {
   "cell_type": "code",
   "execution_count": 8,
   "metadata": {},
   "outputs": [
    {
     "name": "stdout",
     "output_type": "stream",
     "text": [
      "0.8282244912265222\n"
     ]
    }
   ],
   "source": [
    "##### Task 1\n",
    "\n",
    "classifier = tree.DecisionTreeClassifier()\n",
    "accuracy = sklearn.model_selection.cross_val_score(classifier, X, y, cv=10)\n",
    "print(accuracy.mean())"
   ]
  },
  {
   "cell_type": "code",
   "execution_count": 9,
   "metadata": {},
   "outputs": [
    {
     "name": "stdout",
     "output_type": "stream",
     "text": [
      "0.9243093673105992\n"
     ]
    }
   ],
   "source": [
    "##### Task 2\n",
    "\n",
    "classifier = tree.DecisionTreeClassifier()\n",
    "classifier_with_bagging = ensemble.BaggingClassifier(classifier, n_estimators=100)\n",
    "\n",
    "print(sklearn.model_selection.cross_val_score(classifier_with_bagging, X, y, cv=10).mean())"
   ]
  },
  {
   "cell_type": "code",
   "execution_count": 20,
   "metadata": {},
   "outputs": [
    {
     "name": "stdout",
     "output_type": "stream",
     "text": [
      "0.9277085394713327\n"
     ]
    }
   ],
   "source": [
    "##### Task 3\n",
    "classifier = tree.DecisionTreeClassifier()\n",
    "classifier_with_bagging = ensemble.BaggingClassifier(classifier, n_estimators=100, max_features=X.shape[1])\n",
    "\n",
    "print(sklearn.model_selection.cross_val_score(classifier_with_bagging, X, y, cv=10).mean())"
   ]
  },
  {
   "cell_type": "code",
   "execution_count": 21,
   "metadata": {},
   "outputs": [
    {
     "name": "stdout",
     "output_type": "stream",
     "text": [
      "0.9555727925167419\n"
     ]
    }
   ],
   "source": [
    "##### Task 4\n",
    "classifier = tree.DecisionTreeClassifier(max_features='sqrt')\n",
    "classifier_with_bagging = ensemble.BaggingClassifier(classifier, n_estimators=100)\n",
    "\n",
    "print(sklearn.model_selection.cross_val_score(classifier_with_bagging, X, y, cv=10).mean())"
   ]
  },
  {
   "cell_type": "code",
   "execution_count": 29,
   "metadata": {},
   "outputs": [],
   "source": [
    "##### Task 5\n",
    "classifier = ensemble.RandomForestClassifier(max_features='sqrt', n_estimators=100)\n",
    "\n",
    "train_sizes, train_scores, test_scores = sklearn.model_selection.learning_curve(classifier, X, y, train_sizes=np.arange(0.01, 0.2, 0.05), scoring='accuracy', cv=10)"
   ]
  },
  {
   "cell_type": "code",
   "execution_count": 30,
   "metadata": {},
   "outputs": [
    {
     "name": "stdout",
     "output_type": "stream",
     "text": [
      "[ 16  96 177 257] [1. 1. 1. 1.] [0.54835539 0.7588085  0.78083035 0.7853116 ]\n"
     ]
    }
   ],
   "source": [
    "print(train_sizes, train_scores.mean(axis=1), test_scores.mean(axis=1))"
   ]
  },
  {
   "cell_type": "code",
   "execution_count": 31,
   "metadata": {},
   "outputs": [
    {
     "data": {
      "text/plain": [
       "[<matplotlib.lines.Line2D at 0x1a1aa3a810>]"
      ]
     },
     "execution_count": 31,
     "metadata": {},
     "output_type": "execute_result"
    },
    {
     "data": {
      "image/png": "[encoded data removed]",
      "text/plain": [
       "<Figure size 432x288 with 1 Axes>"
      ]
     },
     "metadata": {
      "needs_background": "light"
     },
     "output_type": "display_data"
    }
   ],
   "source": [
    "pyplot.plot(train_sizes, train_scores.mean(axis=1), color='green', label='o')\n",
    "pyplot.plot(train_sizes, test_scores.mean(axis=1), color='red', label='o')"
   ]
  },
  {
   "cell_type": "code",
   "execution_count": 36,
   "metadata": {},
   "outputs": [
    {
     "name": "stdout",
     "output_type": "stream",
     "text": [
      "RandomForestClassifier(bootstrap=True, class_weight=None, criterion='gini',\n",
      "                       max_depth=9, max_features='sqrt', max_leaf_nodes=None,\n",
      "                       min_impurity_decrease=0.0, min_impurity_split=None,\n",
      "                       min_samples_leaf=1, min_samples_split=2,\n",
      "                       min_weight_fraction_leaf=0.0, n_estimators=100,\n",
      "                       n_jobs=None, oob_score=False, random_state=None,\n",
      "                       verbose=0, warm_start=False)\n"
     ]
    },
    {
     "data": {
      "text/plain": [
       "[<matplotlib.lines.Line2D at 0x1a1ad56cd0>]"
      ]
     },
     "execution_count": 36,
     "metadata": {},
     "output_type": "execute_result"
    },
    {
     "data": {
      "image/png": "[encoded data removed]",
      "text/plain": [
       "<Figure size 432x288 with 1 Axes>"
      ]
     },
     "metadata": {
      "needs_background": "light"
     },
     "output_type": "display_data"
    }
   ],
   "source": [
    "### Different numbers of max depth\n",
    "scores = []\n",
    "\n",
    "for x in np.arange(1, 10, 1):\n",
    "    classifier = ensemble.RandomForestClassifier(max_features='sqrt', n_estimators=100, max_depth=x)\n",
    "    score = sklearn.model_selection.cross_val_score(classifier, X, y, cv=10).mean()\n",
    "    scores.append(score)\n",
    "    \n",
    "print(classifier)\n",
    "pyplot.plot(np.arange(1, 10, 1), scores, color='red', label='o')\n",
    "\n"
   ]
  },
  {
   "cell_type": "code",
   "execution_count": 41,
   "metadata": {},
   "outputs": [
    {
     "name": "stdout",
     "output_type": "stream",
     "text": [
      "RandomForestClassifier(bootstrap=True, class_weight=None, criterion='gini',\n",
      "                       max_depth=None, max_features=57, max_leaf_nodes=None,\n",
      "                       min_impurity_decrease=0.0, min_impurity_split=None,\n",
      "                       min_samples_leaf=1, min_samples_split=2,\n",
      "                       min_weight_fraction_leaf=0.0, n_estimators=100,\n",
      "                       n_jobs=None, oob_score=False, random_state=None,\n",
      "                       verbose=0, warm_start=False)\n"
     ]
    },
    {
     "data": {
      "text/plain": [
       "[<matplotlib.lines.Line2D at 0x1a1ad8bd10>]"
      ]
     },
     "execution_count": 41,
     "metadata": {},
     "output_type": "execute_result"
    },
    {
     "data": {
      "image/png": "[encoded data removed]",
      "text/plain": [
       "<Figure size 432x288 with 1 Axes>"
      ]
     },
     "metadata": {
      "needs_background": "light"
     },
     "output_type": "display_data"
    }
   ],
   "source": [
    "### Different numbers of features\n",
    "scores = []\n",
    "\n",
    "for x in np.arange(1, 20, 1):\n",
    "    classifier = ensemble.RandomForestClassifier(max_features=x * 3, n_estimators=100)\n",
    "    score = sklearn.model_selection.cross_val_score(classifier, X, y, cv=10).mean()\n",
    "    scores.append(score)\n",
    "    \n",
    "print(classifier)\n",
    "pyplot.plot([x * 3 for x in np.arange(1, 20, 1)], scores, color='red', label='o')"
   ]
  },
  {
   "cell_type": "code",
   "execution_count": null,
   "metadata": {},
   "outputs": [],
   "source": []
  }
 ],
 "metadata": {
  "kernelspec": {
   "display_name": "Python 3",
   "language": "python",
   "name": "python3"
  },
  "language_info": {
   "codemirror_mode": {
    "name": "ipython",
    "version": 3
   },
   "file_extension": ".py",
   "mimetype": "text/x-python",
   "name": "python",
   "nbconvert_exporter": "python",
   "pygments_lexer": "ipython3",
   "version": "3.7.4"
  }
 },
 "nbformat": 4,
 "nbformat_minor": 4
}
