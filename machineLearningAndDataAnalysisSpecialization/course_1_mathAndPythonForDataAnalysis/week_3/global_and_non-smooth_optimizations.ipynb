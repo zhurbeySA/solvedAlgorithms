{
 "cells": [
  {
   "cell_type": "code",
   "execution_count": 1,
   "metadata": {},
   "outputs": [],
   "source": [
    "import numpy\n",
    "import scipy\n",
    "import math\n",
    "import matplotlib.pylab\n",
    "import scipy.optimize"
   ]
  },
  {
   "cell_type": "code",
   "execution_count": 2,
   "metadata": {},
   "outputs": [],
   "source": [
    "x = range(1, 30)\n",
    "\n",
    "def myFunc(x):\n",
    "    return math.sin(x / 5.) * math.exp(x / 10.) + 5. * math.exp(-x / 2.)\n",
    "\n",
    "\n",
    "y = list(myFunc(x) for x in x)"
   ]
  },
  {
   "cell_type": "code",
   "execution_count": 3,
   "metadata": {},
   "outputs": [
    {
     "data": {
      "image/png": "[encoded data removed]",
      "text/plain": [
       "<Figure size 432x288 with 1 Axes>"
      ]
     },
     "metadata": {
      "needs_background": "light"
     },
     "output_type": "display_data"
    }
   ],
   "source": [
    "matplotlib.pylab.plot(x, y)\n",
    "matplotlib.pylab.show()"
   ]
  },
  {
   "cell_type": "code",
   "execution_count": 5,
   "metadata": {},
   "outputs": [
    {
     "name": "stdout",
     "output_type": "stream",
     "text": [
      "      fun: 1.745268290344928\n",
      " hess_inv: array([[5.98750711]])\n",
      "      jac: array([-2.05636024e-06])\n",
      "  message: 'Optimization terminated successfully.'\n",
      "     nfev: 21\n",
      "      nit: 6\n",
      "     njev: 7\n",
      "   status: 0\n",
      "  success: True\n",
      "        x: array([4.13627619])\n"
     ]
    }
   ],
   "source": [
    "optimization = scipy.optimize.minimize(myFunc, 2, method='BFGS')\n",
    "print(optimization)"
   ]
  },
  {
   "cell_type": "code",
   "execution_count": 7,
   "metadata": {},
   "outputs": [
    {
     "name": "stdout",
     "output_type": "stream",
     "text": [
      "      fun: -11.898894665981322\n",
      " hess_inv: array([[1.67940841]])\n",
      "      jac: array([0.])\n",
      "  message: 'Optimization terminated successfully.'\n",
      "     nfev: 21\n",
      "      nit: 6\n",
      "     njev: 7\n",
      "   status: 0\n",
      "  success: True\n",
      "        x: array([25.880193])\n"
     ]
    }
   ],
   "source": [
    "optimization = scipy.optimize.minimize(myFunc, 30, method='BFGS')\n",
    "print(optimization)"
   ]
  },
  {
   "cell_type": "markdown",
   "metadata": {},
   "source": [
    "# Second task"
   ]
  },
  {
   "cell_type": "code",
   "execution_count": 8,
   "metadata": {},
   "outputs": [
    {
     "name": "stdout",
     "output_type": "stream",
     "text": [
      "     fun: -11.89889466598023\n",
      "     jac: array([-1.0658141e-06])\n",
      " message: 'Optimization terminated successfully.'\n",
      "    nfev: 83\n",
      "     nit: 4\n",
      " success: True\n",
      "       x: array([25.88019111])\n"
     ]
    }
   ],
   "source": [
    "optimization = scipy.optimize.differential_evolution(myFunc, [(1, 30)])\n",
    "print(optimization)"
   ]
  },
  {
   "cell_type": "markdown",
   "metadata": {},
   "source": [
    "# Third task"
   ]
  },
  {
   "cell_type": "code",
   "execution_count": 9,
   "metadata": {},
   "outputs": [
    {
     "name": "stdout",
     "output_type": "stream",
     "text": [
      "[3, 2, 1, 1, 1, 1, 2, 2, 2, 2, 2, 2, 1, 1, 0, 0, -1, -2, -4, -5, -7, -8, -9, -10, -11, -11, -11, -10, -8]\n"
     ]
    },
    {
     "data": {
      "image/png": "[encoded data removed]",
      "text/plain": [
       "<Figure size 432x288 with 1 Axes>"
      ]
     },
     "metadata": {
      "needs_background": "light"
     },
     "output_type": "display_data"
    }
   ],
   "source": [
    "def muFunc(x):\n",
    "    return int(math.sin(x / 5.) * math.exp(x / 10.) + 5. * math.exp(-x / 2.))\n",
    "\n",
    "x = range(1, 30)\n",
    "y = list(muFunc(x) for x in x)\n",
    "print(y)\n",
    "\n",
    "matplotlib.pylab.plot(x, y)\n",
    "matplotlib.pylab.show()"
   ]
  },
  {
   "cell_type": "code",
   "execution_count": 13,
   "metadata": {},
   "outputs": [
    {
     "name": "stdout",
     "output_type": "stream",
     "text": [
      "      fun: -5\n",
      " hess_inv: array([[1]])\n",
      "      jac: array([0.])\n",
      "  message: 'Optimization terminated successfully.'\n",
      "     nfev: 3\n",
      "      nit: 0\n",
      "     njev: 1\n",
      "   status: 0\n",
      "  success: True\n",
      "        x: array([30.])\n"
     ]
    }
   ],
   "source": [
    "optimization = scipy.optimize.minimize(muFunc, 30, method='BFGS')\n",
    "print(optimization)"
   ]
  },
  {
   "cell_type": "code",
   "execution_count": 15,
   "metadata": {},
   "outputs": [
    {
     "name": "stdout",
     "output_type": "stream",
     "text": [
      "     fun: -11.0\n",
      " message: 'Optimization terminated successfully.'\n",
      "    nfev: 77\n",
      "     nit: 4\n",
      " success: True\n",
      "       x: array([25.37332181])\n"
     ]
    }
   ],
   "source": [
    "optimization = scipy.optimize.differential_evolution(muFunc, [(1, 30)])\n",
    "print(optimization)"
   ]
  },
  {
   "cell_type": "code",
   "execution_count": null,
   "metadata": {},
   "outputs": [],
   "source": []
  }
 ],
 "metadata": {
  "kernelspec": {
   "display_name": "Python 3",
   "language": "python",
   "name": "python3"
  },
  "language_info": {
   "codemirror_mode": {
    "name": "ipython",
    "version": 3
   },
   "file_extension": ".py",
   "mimetype": "text/x-python",
   "name": "python",
   "nbconvert_exporter": "python",
   "pygments_lexer": "ipython3",
   "version": "3.7.4"
  }
 },
 "nbformat": 4,
 "nbformat_minor": 4
}
