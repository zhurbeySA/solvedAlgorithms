{
 "cells": [
  {
   "cell_type": "code",
   "execution_count": 372,
   "metadata": {},
   "outputs": [],
   "source": [
    "import pandas as pd\n",
    "import numpy as np\n",
    "import functools"
   ]
  },
  {
   "cell_type": "code",
   "execution_count": 373,
   "metadata": {},
   "outputs": [],
   "source": [
    "labels = np.array([])\n",
    "messages = np.array([])\n",
    "\n",
    "with open('coursera_session_train.txt') as fp:\n",
    "    train_data = fp.readlines()\n",
    "    \n",
    "with open('coursera_session_test.txt') as fp:\n",
    "    test_data = fp.readlines()"
   ]
  },
  {
   "cell_type": "code",
   "execution_count": null,
   "metadata": {},
   "outputs": [],
   "source": []
  },
  {
   "cell_type": "code",
   "execution_count": 374,
   "metadata": {},
   "outputs": [],
   "source": [
    "frequencies_watched = {}\n",
    "frequencies_buyed = {}\n",
    "\n",
    "for line_ind, line in enumerate(train_data):\n",
    "    watched, buyed = line[:-1].split(';')\n",
    "    for ind, id in enumerate((watched.split(','))):\n",
    "        if id in frequencies_watched:\n",
    "            frequencies_watched[id][0] += 1\n",
    "        else:\n",
    "            frequencies_watched[id] = [1, (line_ind, ind)]\n",
    "    \n",
    "    for ind, id in enumerate(buyed.split(',')):\n",
    "        if id in frequencies_buyed:\n",
    "            frequencies_buyed[id][0] += 1\n",
    "        else:\n",
    "            frequencies_buyed[id] = [1, (line_ind, ind)]\n",
    "      \n",
    "    "
   ]
  },
  {
   "cell_type": "code",
   "execution_count": 375,
   "metadata": {},
   "outputs": [],
   "source": [
    "def recomendation_on_watching_rate(recomendations_quantity, checked_goods):\n",
    "    goods_frequency = []\n",
    "    watched, buyed = checked_goods.split(';')\n",
    "    for ind, id in enumerate(watched.split(',')):\n",
    "        if id in frequencies_watched:\n",
    "\n",
    "            if (id, frequencies_watched[id]) in goods_frequency:\n",
    "                continue\n",
    "\n",
    "            goods_frequency.append((id, frequencies_watched[id]))\n",
    "        else:\n",
    "\n",
    "            if (id, [0, [0, ind]]) in goods_frequency:\n",
    "                continue\n",
    "\n",
    "            goods_frequency.append((id, [0, [0, ind]]))\n",
    "            \n",
    "    def sort_func(a, b):\n",
    "        if (a[1][0] > b[1][0]):\n",
    "            return -1\n",
    "        elif (a[1][0] < b[1][0]):\n",
    "            return 1\n",
    "        \n",
    "        if (a[1][1][0] < b[1][1][0]):\n",
    "            return -1\n",
    "        elif (a[1][1][0] > b[1][1][0]):\n",
    "            return 1\n",
    "        \n",
    "        if (a[1][1][1] < b[1][1][1]):\n",
    "            return -1\n",
    "        else:\n",
    "            return 1\n",
    "    \n",
    "    recomendations = sorted(goods_frequency, key=functools.cmp_to_key(sort_func))\n",
    "    recomendations = map(lambda x: x[0], recomendations)\n",
    "    recomendations = list(dict.fromkeys(recomendations))\n",
    "    return recomendations[0:recomendations_quantity]"
   ]
  },
  {
   "cell_type": "code",
   "execution_count": 376,
   "metadata": {},
   "outputs": [],
   "source": [
    "def recomendation_on_buying_rate(recomendations_quantity, checked_goods):\n",
    "    goods_frequency = []\n",
    "    watched, buyed = checked_goods.split(';')\n",
    "    for ind, id in enumerate(watched.split(',')):\n",
    "        if id in frequencies_buyed:\n",
    "\n",
    "            if (id, frequencies_buyed[id]) in goods_frequency:\n",
    "                continue\n",
    "\n",
    "            goods_frequency.append((id, frequencies_buyed[id]))\n",
    "        else:\n",
    "\n",
    "            if (id, [0, [0, ind]]) in goods_frequency:\n",
    "                continue\n",
    "\n",
    "            goods_frequency.append((id, [0, [0, ind]]))\n",
    "            \n",
    "    def sort_func(a, b):\n",
    "        if (a[1][0] > b[1][0]):\n",
    "            return -1\n",
    "        elif (a[1][0] < b[1][0]):\n",
    "            return 1\n",
    "        \n",
    "        if (a[1][1][0] < b[1][1][0]):\n",
    "            return -1\n",
    "        elif (a[1][1][0] > b[1][1][0]):\n",
    "            return 1\n",
    "        \n",
    "        if (a[1][1][1] < b[1][1][1]):\n",
    "            return -1\n",
    "        else:\n",
    "            return 1\n",
    "    \n",
    "    recomendations = sorted(goods_frequency, key=functools.cmp_to_key(sort_func))\n",
    "    recomendations = map(lambda x: x[0], recomendations)\n",
    "    recomendations = list(dict.fromkeys(recomendations))\n",
    "    # print(sorted(goods_frequency, key=functools.cmp_to_key(sort_func)))\n",
    "    return recomendations[0:recomendations_quantity]"
   ]
  },
  {
   "cell_type": "code",
   "execution_count": null,
   "metadata": {},
   "outputs": [],
   "source": []
  },
  {
   "cell_type": "code",
   "execution_count": 377,
   "metadata": {},
   "outputs": [],
   "source": [
    "def get_precision(num, recomended, buyed):\n",
    "    numerator = 0\n",
    "    for id in recomended:\n",
    "        if id in buyed.split(','):\n",
    "            numerator += 1\n",
    "        \n",
    "    return numerator / num\n",
    "\n",
    "\n",
    "def get_recall(num, recomended, buyed):\n",
    "    numerator = 0\n",
    "    for id in recomended:\n",
    "        if id in buyed.split(','):\n",
    "            numerator +=1\n",
    "            \n",
    "    return numerator / len(buyed.split(','))"
   ]
  },
  {
   "cell_type": "code",
   "execution_count": null,
   "metadata": {},
   "outputs": [],
   "source": []
  },
  {
   "cell_type": "code",
   "execution_count": null,
   "metadata": {},
   "outputs": [],
   "source": []
  },
  {
   "cell_type": "code",
   "execution_count": 378,
   "metadata": {},
   "outputs": [],
   "source": [
    "# Clean data from sessions where customer haven't made any purchase\n",
    "\n",
    "train_data_cleaned = []\n",
    "for line in train_data:\n",
    "    if line.find(';') + 2 == len(line):\n",
    "        continue\n",
    "    \n",
    "    train_data_cleaned.append(line)\n",
    "    \n",
    "    \n",
    "test_data_cleaned = []\n",
    "for line in test_data:\n",
    "    if line.find(';') + 2 == len(line):\n",
    "        continue\n",
    "        \n",
    "    test_data_cleaned.append(line)"
   ]
  },
  {
   "cell_type": "code",
   "execution_count": null,
   "metadata": {},
   "outputs": [],
   "source": []
  },
  {
   "cell_type": "code",
   "execution_count": 379,
   "metadata": {},
   "outputs": [],
   "source": [
    "def get_avg_recall_precision(data, recomend_func, recomendations_number):\n",
    "    precisions = []\n",
    "    recalls = []\n",
    "    \n",
    "    for line in data:\n",
    "        recomendations = recomend_func(recomendations_number, line)\n",
    "        precisions.append(get_precision(recomendations_number, recomendations, line[:-1].split(';')[1]))\n",
    "        recalls.append(get_recall(recomendations_number, recomendations, line[:-1].split(';')[1]))\n",
    "    \n",
    "    precisions = np.array(precisions)\n",
    "    recalls = np.array(recalls)\n",
    "    \n",
    "    return round(recalls.mean(), 2), round(precisions.mean(), 2)"
   ]
  },
  {
   "cell_type": "code",
   "execution_count": 380,
   "metadata": {},
   "outputs": [
    {
     "name": "stdout",
     "output_type": "stream",
     "text": [
      "precision, recall (recomendations = 1, train_data_cleaned, wathcing recomendations): (0.44, 0.51)\n",
      "precision, recall (recomendations = 5, train_data_cleaned, wathcing recomendations): (0.82, 0.21)\n"
     ]
    }
   ],
   "source": [
    "# number of recomendations = 1, train_data_cleaned, wathcing recomendations\n",
    "print('precision, recall (recomendations = 1, train_data_cleaned, wathcing recomendations):', get_avg_recall_precision(train_data_cleaned, recomendation_on_watching_rate, 1))\n",
    "\n",
    "# number of recomendations = 5, train_data_cleaned, wathcing_recomendations\n",
    "print('precision, recall (recomendations = 5, train_data_cleaned, wathcing recomendations):', get_avg_recall_precision(train_data_cleaned, recomendation_on_watching_rate, 5))"
   ]
  },
  {
   "cell_type": "code",
   "execution_count": 381,
   "metadata": {},
   "outputs": [
    {
     "name": "stdout",
     "output_type": "stream",
     "text": [
      "precision, recall (recomendations = 1, test_data_cleaned, wathcing recomendations): (0.41, 0.48)\n",
      "precision, recall (recomendations = 5, test_data_cleaned, wathcing recomendations): (0.8, 0.2)\n"
     ]
    }
   ],
   "source": [
    "# number of recomendations = 1, test_data_cleaned, wathcing recomendations\n",
    "print('precision, recall (recomendations = 1, test_data_cleaned, wathcing recomendations):', get_avg_recall_precision(test_data_cleaned, recomendation_on_watching_rate, 1))\n",
    "\n",
    "# number of recomendations = 5, test_data_cleaned, wathcing_recomendations\n",
    "print('precision, recall (recomendations = 5, test_data_cleaned, wathcing recomendations):', get_avg_recall_precision(test_data_cleaned, recomendation_on_watching_rate, 5))"
   ]
  },
  {
   "cell_type": "code",
   "execution_count": 382,
   "metadata": {},
   "outputs": [
    {
     "name": "stdout",
     "output_type": "stream",
     "text": [
      "precision, recall (recomendations = 1, train_data_cleaned, buying recomendaions): (0.68, 0.79)\n",
      "precision, recall (recomendations = 5, train_data_cleaned, buying recomendaions): (0.93, 0.25)\n"
     ]
    }
   ],
   "source": [
    "# number of recomendations = 1, train_data_cleaned, buying recomendaions\n",
    "print('precision, recall (recomendations = 1, train_data_cleaned, buying recomendaions):', get_avg_recall_precision(train_data_cleaned, recomendation_on_buying_rate, 1))\n",
    "\n",
    "# number of recomendations = 1, train_data_cleaned, buying recomendations\n",
    "print('precision, recall (recomendations = 5, train_data_cleaned, buying recomendaions):', get_avg_recall_precision(train_data_cleaned, recomendation_on_buying_rate, 5))"
   ]
  },
  {
   "cell_type": "code",
   "execution_count": 383,
   "metadata": {},
   "outputs": [
    {
     "name": "stdout",
     "output_type": "stream",
     "text": [
      "precision, recall (recomendations = 1, test_data_cleaned, buying recomendaions): (0.46, 0.53)\n",
      "precision, recall (recomendations = 5, test_data_cleaned, buying recomendaions): (0.82, 0.21)\n"
     ]
    }
   ],
   "source": [
    "# number of recomendations = 1, test_data_cleaned, buying recomendations\n",
    "print('precision, recall (recomendations = 1, test_data_cleaned, buying recomendaions):', get_avg_recall_precision(test_data_cleaned, recomendation_on_buying_rate, 1))\n",
    "\n",
    "# number of recomendations = 1, test_data_cleaned, buying recomendations\n",
    "print('precision, recall (recomendations = 5, test_data_cleaned, buying recomendaions):', get_avg_recall_precision(test_data_cleaned, recomendation_on_buying_rate, 5))"
   ]
  },
  {
   "cell_type": "code",
   "execution_count": null,
   "metadata": {},
   "outputs": [],
   "source": []
  },
  {
   "cell_type": "code",
   "execution_count": null,
   "metadata": {},
   "outputs": [],
   "source": []
  }
 ],
 "metadata": {
  "kernelspec": {
   "display_name": "Python 3",
   "language": "python",
   "name": "python3"
  },
  "language_info": {
   "codemirror_mode": {
    "name": "ipython",
    "version": 3
   },
   "file_extension": ".py",
   "mimetype": "text/x-python",
   "name": "python",
   "nbconvert_exporter": "python",
   "pygments_lexer": "ipython3",
   "version": "3.7.4"
  }
 },
 "nbformat": 4,
 "nbformat_minor": 4
}
